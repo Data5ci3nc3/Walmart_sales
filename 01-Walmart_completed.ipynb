{
 "cells": [
  {
   "cell_type": "markdown",
   "metadata": {},
   "source": [
    "<img src=\"https://www.bestdesigns.co/uploads/inspiration_images/4350/990__1511457498_404_walmart.png\" alt=\"WALMART LOGO\" />\n",
    "\n",
    "# Walmart : predict weekly sales\n",
    "\n",
    "## Company's Description 📇\n",
    "\n",
    "Walmart Inc. is an American multinational retail corporation that operates a chain of hypermarkets, discount department stores, and grocery stores from the United States, headquartered in Bentonville, Arkansas. The company was founded by Sam Walton in 1962.\n",
    "\n",
    "## Project 🚧\n",
    "\n",
    "Walmart's marketing service has asked you to build a machine learning model able to estimate the weekly sales in their stores, with the best precision possible on the predictions made. Such a model would help them understand better how the sales are influenced by economic indicators, and might be used to plan future marketing campaigns.\n",
    "\n",
    "## Goals 🎯\n",
    "\n",
    "The project can be divided into three steps:\n",
    "\n",
    "- Part 1 : make an EDA and all the necessary preprocessings to prepare data for machine learning\n",
    "- Part 2 : train a **linear regression model** (baseline)\n",
    "- Part 3 : avoid overfitting by training a **regularized regression model**\n",
    "\n",
    "## Scope of this project 🖼️\n",
    "\n",
    "For this project, you'll work with a dataset that contains information about weekly sales achieved by different Walmart stores, and other variables such as the unemployment rate or the fuel price, that might be useful for predicting the amount of sales. The dataset has been taken from a Kaggle competition, but we made some changes compared to the original data. Please make sure that you're using **our** custom dataset (available on JULIE). 🤓"
   ]
  },
  {
   "cell_type": "markdown",
   "metadata": {},
   "source": [
    "## Deliverable 📬\n",
    "\n",
    "To complete this project, your team should: \n",
    "\n",
    "- Create some visualizations\n",
    "- Train at least one **linear regression model** on the dataset, that predicts the amount of weekly sales as a function of the other variables\n",
    "- Assess the performances of the model by using a metric that is relevant for regression problems\n",
    "- Interpret the coefficients of the model to identify what features are important for the prediction\n",
    "- Train at least one model with **regularization (Lasso or Ridge)** to reduce overfitting\n"
   ]
  },
  {
   "cell_type": "markdown",
   "metadata": {},
   "source": [
    "## Helpers 🦮\n",
    "\n",
    "To help you achieve this project, here are a few tips that should help you: \n",
    "\n",
    "### Part 1 : EDA and data preprocessing\n",
    "\n",
    "Start your project by exploring your dataset : create figures, compute some statistics etc...\n",
    "\n",
    "Then, you'll have to make some preprocessing on the dataset. You can follow the guidelines from the *preprocessing template*. There will also be some specific transformations to be planned on this dataset, for example on the *Date* column that can't be included as it is in the model. Below are some hints that might help you 🤓\n",
    "\n",
    " #### Preprocessing to be planned with pandas\n",
    "\n",
    " **Drop lines where target values are missing :**\n",
    " - Here, the target variable (Y) corresponds to the column *Weekly_Sales*. One can see above that there are some missing values in this column.\n",
    " - We never use imputation techniques on the target : it might create some bias in the predictions !\n",
    " - Then, we will just drop the lines in the dataset for which the value in *Weekly_Sales* is missing.\n",
    " \n",
    "**Create usable features from the *Date* column :**\n",
    "The *Date* column cannot be included as it is in the model. Either you can drop this column, or you will create new columns that contain the following numeric features : \n",
    "- *year*\n",
    "- *month*\n",
    "- *day*\n",
    "- *day of week*\n",
    "\n",
    "**Drop lines containing invalid values or outliers :**\n",
    "In this project, will be considered as outliers all the numeric features that don't fall within the range : $[\\bar{X} - 3\\sigma, \\bar{X} + 3\\sigma]$. This concerns the columns : *Temperature*, *Fuel_price*, *CPI* and *Unemployment*\n",
    " \n",
    "\n",
    "\n",
    "**Target variable/target (Y) that we will try to predict, to separate from the others** : *Weekly_Sales*\n",
    "\n",
    " **------------**\n",
    "\n",
    " #### Preprocessings to be planned with scikit-learn\n",
    "\n",
    " **Explanatory variables (X)**\n",
    "We need to identify which columns contain categorical variables and which columns contain numerical variables, as they will be treated differently.\n",
    "\n",
    " - Categorical variables : Store, Holiday_Flag\n",
    " - Numerical variables : Temperature, Fuel_Price, CPI, Unemployment, Year, Month, Day, DayOfWeek\n",
    "\n",
    "### Part 2 : Baseline model (linear regression)\n",
    "Once you've trained a first model, don't forget to assess its performances on the train and test sets. Are you satisfied with the results ?\n",
    "Besides, it would be interesting to analyze the values of the model's coefficients to know what features are important for the prediction. To do so, the `.coef_` attribute of scikit-learn's LinearRegression class might be useful. Please refer to the following link for more information 😉 https://scikit-learn.org/stable/modules/generated/sklearn.linear_model.LinearRegression.html\n",
    "\n",
    "### Part 3 : Fight overfitting\n",
    "In this last part, you'll have to train a **regularized linear regression model**. You'll find below some useful classes in scikit-learn's documentation :\n",
    "- https://scikit-learn.org/stable/modules/generated/sklearn.linear_model.Ridge.html#sklearn.linear_model.Ridge\n",
    "- https://scikit-learn.org/stable/modules/generated/sklearn.linear_model.Lasso.html#sklearn.linear_model.Lasso\n",
    "\n",
    "**Bonus question**\n",
    "\n",
    "In regularized regression models, there's a hyperparameter called *the regularization strength* that can be fine-tuned to get the best generalized predictions on a given dataset. This fine-tuning can be done thanks to scikit-learn's GridSearchCV class : https://scikit-learn.org/stable/modules/generated/sklearn.model_selection.GridSearchCV.html\n",
    "\n",
    "Also, you'll find here some examples of how to use GridSearchCV together with Ridge or Lasso models : https://alfurka.github.io/2018-11-18-grid-search/"
   ]
  },
  {
   "cell_type": "markdown",
   "metadata": {},
   "source": [
    "# Walmart sales project"
   ]
  },
  {
   "cell_type": "markdown",
   "metadata": {},
   "source": [
    "##### Importing necessary librairies"
   ]
  },
  {
   "cell_type": "code",
   "execution_count": 1,
   "metadata": {},
   "outputs": [],
   "source": [
    "import numpy as np\n",
    "import pandas as pd\n",
    "import seaborn as sns\n",
    "\n",
    "from sklearn.model_selection import train_test_split\n",
    "from sklearn.impute import SimpleImputer\n",
    "from sklearn.preprocessing import  OneHotEncoder, StandardScaler, MinMaxScaler\n",
    "from sklearn.pipeline import Pipeline\n",
    "from sklearn.compose import ColumnTransformer\n",
    "from sklearn.linear_model import LinearRegression, Ridge\n",
    "from sklearn.metrics import r2_score\n",
    "from sklearn.model_selection import cross_val_score, GridSearchCV\n",
    "import warnings\n",
    "warnings.filterwarnings(\"ignore\", category=DeprecationWarning) # to avoid deprecation warnings\n",
    "\n",
    "import matplotlib.pyplot as plt\n",
    "import plotly.express as px\n",
    "import plotly.graph_objects as go\n",
    "import plotly.io as pio\n",
    "# setting Jedha color palette as default\n",
    "pio.templates[\"jedha\"] = go.layout.Template(\n",
    "    layout_colorway=[\"#4B9AC7\", \"#4BE8E0\", \"#9DD4F3\", \"#97FBF6\", \"#2A7FAF\", \"#23B1AB\", \"#0E3449\", \"#015955\"]\n",
    ")\n",
    "pio.templates.default = \"jedha\"\n",
    "pio.renderers.default = \"svg\" # to be replaced by \"iframe_connected\" if working on JULIE"
   ]
  },
  {
   "cell_type": "markdown",
   "metadata": {},
   "source": [
    "##### Importing the dataset"
   ]
  },
  {
   "cell_type": "code",
   "execution_count": 2,
   "metadata": {},
   "outputs": [
    {
     "name": "stdout",
     "output_type": "stream",
     "text": [
      "Loading dataset...\n",
      "...Done.\n",
      "\n"
     ]
    }
   ],
   "source": [
    "# Import dataset\n",
    "print(\"Loading dataset...\")\n",
    "df = pd.read_csv(\"walmart.csv\")\n",
    "print(\"...Done.\")\n",
    "print()"
   ]
  },
  {
   "cell_type": "markdown",
   "metadata": {},
   "source": [
    "##### Understanding the overall structure of the dataset"
   ]
  },
  {
   "cell_type": "code",
   "execution_count": 3,
   "metadata": {},
   "outputs": [
    {
     "data": {
      "text/plain": [
       "(150, 8)"
      ]
     },
     "execution_count": 3,
     "metadata": {},
     "output_type": "execute_result"
    }
   ],
   "source": [
    "df.shape"
   ]
  },
  {
   "cell_type": "code",
   "execution_count": 4,
   "metadata": {},
   "outputs": [
    {
     "data": {
      "text/html": [
       "<div>\n",
       "<style scoped>\n",
       "    .dataframe tbody tr th:only-of-type {\n",
       "        vertical-align: middle;\n",
       "    }\n",
       "\n",
       "    .dataframe tbody tr th {\n",
       "        vertical-align: top;\n",
       "    }\n",
       "\n",
       "    .dataframe thead th {\n",
       "        text-align: right;\n",
       "    }\n",
       "</style>\n",
       "<table border=\"1\" class=\"dataframe\">\n",
       "  <thead>\n",
       "    <tr style=\"text-align: right;\">\n",
       "      <th></th>\n",
       "      <th>Store</th>\n",
       "      <th>Date</th>\n",
       "      <th>Weekly_Sales</th>\n",
       "      <th>Holiday_Flag</th>\n",
       "      <th>Temperature</th>\n",
       "      <th>Fuel_Price</th>\n",
       "      <th>CPI</th>\n",
       "      <th>Unemployment</th>\n",
       "    </tr>\n",
       "  </thead>\n",
       "  <tbody>\n",
       "    <tr>\n",
       "      <th>0</th>\n",
       "      <td>6.0</td>\n",
       "      <td>18-02-2011</td>\n",
       "      <td>1572117.54</td>\n",
       "      <td>NaN</td>\n",
       "      <td>59.61</td>\n",
       "      <td>3.045</td>\n",
       "      <td>214.777523</td>\n",
       "      <td>6.858</td>\n",
       "    </tr>\n",
       "    <tr>\n",
       "      <th>1</th>\n",
       "      <td>13.0</td>\n",
       "      <td>25-03-2011</td>\n",
       "      <td>1807545.43</td>\n",
       "      <td>0.0</td>\n",
       "      <td>42.38</td>\n",
       "      <td>3.435</td>\n",
       "      <td>128.616064</td>\n",
       "      <td>7.470</td>\n",
       "    </tr>\n",
       "    <tr>\n",
       "      <th>2</th>\n",
       "      <td>17.0</td>\n",
       "      <td>27-07-2012</td>\n",
       "      <td>NaN</td>\n",
       "      <td>0.0</td>\n",
       "      <td>NaN</td>\n",
       "      <td>NaN</td>\n",
       "      <td>130.719581</td>\n",
       "      <td>5.936</td>\n",
       "    </tr>\n",
       "    <tr>\n",
       "      <th>3</th>\n",
       "      <td>11.0</td>\n",
       "      <td>NaN</td>\n",
       "      <td>1244390.03</td>\n",
       "      <td>0.0</td>\n",
       "      <td>84.57</td>\n",
       "      <td>NaN</td>\n",
       "      <td>214.556497</td>\n",
       "      <td>7.346</td>\n",
       "    </tr>\n",
       "    <tr>\n",
       "      <th>4</th>\n",
       "      <td>6.0</td>\n",
       "      <td>28-05-2010</td>\n",
       "      <td>1644470.66</td>\n",
       "      <td>0.0</td>\n",
       "      <td>78.89</td>\n",
       "      <td>2.759</td>\n",
       "      <td>212.412888</td>\n",
       "      <td>7.092</td>\n",
       "    </tr>\n",
       "  </tbody>\n",
       "</table>\n",
       "</div>"
      ],
      "text/plain": [
       "   Store        Date  Weekly_Sales  Holiday_Flag  Temperature  Fuel_Price  \\\n",
       "0    6.0  18-02-2011    1572117.54           NaN        59.61       3.045   \n",
       "1   13.0  25-03-2011    1807545.43           0.0        42.38       3.435   \n",
       "2   17.0  27-07-2012           NaN           0.0          NaN         NaN   \n",
       "3   11.0         NaN    1244390.03           0.0        84.57         NaN   \n",
       "4    6.0  28-05-2010    1644470.66           0.0        78.89       2.759   \n",
       "\n",
       "          CPI  Unemployment  \n",
       "0  214.777523         6.858  \n",
       "1  128.616064         7.470  \n",
       "2  130.719581         5.936  \n",
       "3  214.556497         7.346  \n",
       "4  212.412888         7.092  "
      ]
     },
     "execution_count": 4,
     "metadata": {},
     "output_type": "execute_result"
    }
   ],
   "source": [
    "df.head()"
   ]
  },
  {
   "cell_type": "code",
   "execution_count": 5,
   "metadata": {},
   "outputs": [
    {
     "data": {
      "text/html": [
       "<div>\n",
       "<style scoped>\n",
       "    .dataframe tbody tr th:only-of-type {\n",
       "        vertical-align: middle;\n",
       "    }\n",
       "\n",
       "    .dataframe tbody tr th {\n",
       "        vertical-align: top;\n",
       "    }\n",
       "\n",
       "    .dataframe thead th {\n",
       "        text-align: right;\n",
       "    }\n",
       "</style>\n",
       "<table border=\"1\" class=\"dataframe\">\n",
       "  <thead>\n",
       "    <tr style=\"text-align: right;\">\n",
       "      <th></th>\n",
       "      <th>Store</th>\n",
       "      <th>Date</th>\n",
       "      <th>Weekly_Sales</th>\n",
       "      <th>Holiday_Flag</th>\n",
       "      <th>Temperature</th>\n",
       "      <th>Fuel_Price</th>\n",
       "      <th>CPI</th>\n",
       "      <th>Unemployment</th>\n",
       "    </tr>\n",
       "  </thead>\n",
       "  <tbody>\n",
       "    <tr>\n",
       "      <th>145</th>\n",
       "      <td>14.0</td>\n",
       "      <td>18-06-2010</td>\n",
       "      <td>2248645.59</td>\n",
       "      <td>0.0</td>\n",
       "      <td>72.62</td>\n",
       "      <td>2.780</td>\n",
       "      <td>182.442420</td>\n",
       "      <td>8.899</td>\n",
       "    </tr>\n",
       "    <tr>\n",
       "      <th>146</th>\n",
       "      <td>7.0</td>\n",
       "      <td>NaN</td>\n",
       "      <td>716388.81</td>\n",
       "      <td>NaN</td>\n",
       "      <td>20.74</td>\n",
       "      <td>2.778</td>\n",
       "      <td>NaN</td>\n",
       "      <td>NaN</td>\n",
       "    </tr>\n",
       "    <tr>\n",
       "      <th>147</th>\n",
       "      <td>17.0</td>\n",
       "      <td>11-06-2010</td>\n",
       "      <td>845252.21</td>\n",
       "      <td>0.0</td>\n",
       "      <td>57.14</td>\n",
       "      <td>2.841</td>\n",
       "      <td>126.111903</td>\n",
       "      <td>NaN</td>\n",
       "    </tr>\n",
       "    <tr>\n",
       "      <th>148</th>\n",
       "      <td>8.0</td>\n",
       "      <td>12-08-2011</td>\n",
       "      <td>856796.10</td>\n",
       "      <td>0.0</td>\n",
       "      <td>86.05</td>\n",
       "      <td>3.638</td>\n",
       "      <td>219.007525</td>\n",
       "      <td>NaN</td>\n",
       "    </tr>\n",
       "    <tr>\n",
       "      <th>149</th>\n",
       "      <td>19.0</td>\n",
       "      <td>20-04-2012</td>\n",
       "      <td>1255087.26</td>\n",
       "      <td>0.0</td>\n",
       "      <td>55.20</td>\n",
       "      <td>4.170</td>\n",
       "      <td>137.923067</td>\n",
       "      <td>8.150</td>\n",
       "    </tr>\n",
       "  </tbody>\n",
       "</table>\n",
       "</div>"
      ],
      "text/plain": [
       "     Store        Date  Weekly_Sales  Holiday_Flag  Temperature  Fuel_Price  \\\n",
       "145   14.0  18-06-2010    2248645.59           0.0        72.62       2.780   \n",
       "146    7.0         NaN     716388.81           NaN        20.74       2.778   \n",
       "147   17.0  11-06-2010     845252.21           0.0        57.14       2.841   \n",
       "148    8.0  12-08-2011     856796.10           0.0        86.05       3.638   \n",
       "149   19.0  20-04-2012    1255087.26           0.0        55.20       4.170   \n",
       "\n",
       "            CPI  Unemployment  \n",
       "145  182.442420         8.899  \n",
       "146         NaN           NaN  \n",
       "147  126.111903           NaN  \n",
       "148  219.007525           NaN  \n",
       "149  137.923067         8.150  "
      ]
     },
     "execution_count": 5,
     "metadata": {},
     "output_type": "execute_result"
    }
   ],
   "source": [
    "df.tail()"
   ]
  },
  {
   "cell_type": "code",
   "execution_count": 6,
   "metadata": {},
   "outputs": [
    {
     "name": "stdout",
     "output_type": "stream",
     "text": [
      "<class 'pandas.core.frame.DataFrame'>\n",
      "RangeIndex: 150 entries, 0 to 149\n",
      "Data columns (total 8 columns):\n",
      " #   Column        Non-Null Count  Dtype  \n",
      "---  ------        --------------  -----  \n",
      " 0   Store         150 non-null    float64\n",
      " 1   Date          132 non-null    object \n",
      " 2   Weekly_Sales  136 non-null    float64\n",
      " 3   Holiday_Flag  138 non-null    float64\n",
      " 4   Temperature   132 non-null    float64\n",
      " 5   Fuel_Price    136 non-null    float64\n",
      " 6   CPI           138 non-null    float64\n",
      " 7   Unemployment  135 non-null    float64\n",
      "dtypes: float64(7), object(1)\n",
      "memory usage: 9.5+ KB\n"
     ]
    }
   ],
   "source": [
    "df.info()"
   ]
  },
  {
   "cell_type": "code",
   "execution_count": 7,
   "metadata": {},
   "outputs": [
    {
     "data": {
      "text/plain": [
       "Store           float64\n",
       "Date             object\n",
       "Weekly_Sales    float64\n",
       "Holiday_Flag    float64\n",
       "Temperature     float64\n",
       "Fuel_Price      float64\n",
       "CPI             float64\n",
       "Unemployment    float64\n",
       "dtype: object"
      ]
     },
     "execution_count": 7,
     "metadata": {},
     "output_type": "execute_result"
    }
   ],
   "source": [
    "df.dtypes"
   ]
  },
  {
   "cell_type": "markdown",
   "metadata": {},
   "source": [
    "#### Exploratory data analysis"
   ]
  },
  {
   "cell_type": "markdown",
   "metadata": {},
   "source": [
    "##### Spot visually missing values"
   ]
  },
  {
   "cell_type": "code",
   "execution_count": 8,
   "metadata": {},
   "outputs": [
    {
     "data": {
      "text/plain": [
       "<AxesSubplot:>"
      ]
     },
     "execution_count": 8,
     "metadata": {},
     "output_type": "execute_result"
    },
    {
     "data": {
      "image/png": "[encoded data removed]",
      "text/plain": [
       "<Figure size 1440x720 with 1 Axes>"
      ]
     },
     "metadata": {
      "needs_background": "light"
     },
     "output_type": "display_data"
    }
   ],
   "source": [
    "plt.figure(figsize=(20,10))\n",
    "sns.heatmap(df.isna(), cbar=False)"
   ]
  },
  {
   "cell_type": "markdown",
   "metadata": {},
   "source": [
    "##### The white strips above are missing values"
   ]
  },
  {
   "cell_type": "markdown",
   "metadata": {},
   "source": [
    "#### Histograms of continuous variables"
   ]
  },
  {
   "cell_type": "code",
   "execution_count": 9,
   "metadata": {},
   "outputs": [
    {
     "data": {
      "text/plain": [
       "<Figure size 432x288 with 0 Axes>"
      ]
     },
     "metadata": {},
     "output_type": "display_data"
    },
    {
     "data": {
      "image/png": "[encoded data removed]",
      "text/plain": [
       "<Figure size 360x360 with 1 Axes>"
      ]
     },
     "metadata": {
      "needs_background": "light"
     },
     "output_type": "display_data"
    },
    {
     "data": {
      "text/plain": [
       "<Figure size 432x288 with 0 Axes>"
      ]
     },
     "metadata": {},
     "output_type": "display_data"
    },
    {
     "data": {
      "image/png": "[encoded data removed]",
      "text/plain": [
       "<Figure size 360x360 with 1 Axes>"
      ]
     },
     "metadata": {
      "needs_background": "light"
     },
     "output_type": "display_data"
    },
    {
     "data": {
      "text/plain": [
       "<Figure size 432x288 with 0 Axes>"
      ]
     },
     "metadata": {},
     "output_type": "display_data"
    },
    {
     "data": {
      "image/png": "[encoded data removed]",
      "text/plain": [
       "<Figure size 360x360 with 1 Axes>"
      ]
     },
     "metadata": {
      "needs_background": "light"
     },
     "output_type": "display_data"
    },
    {
     "data": {
      "text/plain": [
       "<Figure size 432x288 with 0 Axes>"
      ]
     },
     "metadata": {},
     "output_type": "display_data"
    },
    {
     "data": {
      "image/png": "[encoded data removed]",
      "text/plain": [
       "<Figure size 360x360 with 1 Axes>"
      ]
     },
     "metadata": {
      "needs_background": "light"
     },
     "output_type": "display_data"
    },
    {
     "data": {
      "text/plain": [
       "<Figure size 432x288 with 0 Axes>"
      ]
     },
     "metadata": {},
     "output_type": "display_data"
    },
    {
     "data": {
      "image/png": "[encoded data removed]",
      "text/plain": [
       "<Figure size 360x360 with 1 Axes>"
      ]
     },
     "metadata": {
      "needs_background": "light"
     },
     "output_type": "display_data"
    }
   ],
   "source": [
    "continuous_variables = [\"Temperature\", \"Fuel_Price\", \"CPI\", \"Unemployment\", \"Weekly_Sales\"]\n",
    "for continuous_variable in continuous_variables:\n",
    "    plt.figure()\n",
    "    sns.displot(df[continuous_variable])"
   ]
  },
  {
   "cell_type": "markdown",
   "metadata": {},
   "source": [
    "##### Visualize the relationship between \"Weekly_Sales\", the target, and \"Fuel_Price\""
   ]
  },
  {
   "cell_type": "code",
   "execution_count": 10,
   "metadata": {},
   "outputs": [
    {
     "data": {
      "text/plain": [
       "<seaborn.axisgrid.FacetGrid at 0x7f95d51e5d90>"
      ]
     },
     "execution_count": 10,
     "metadata": {},
     "output_type": "execute_result"
    },
    {
     "data": {
      "text/plain": [
       "<Figure size 432x288 with 0 Axes>"
      ]
     },
     "metadata": {},
     "output_type": "display_data"
    },
    {
     "data": {
      "image/png": "[encoded data removed]",
      "text/plain": [
       "<Figure size 360x360 with 1 Axes>"
      ]
     },
     "metadata": {
      "needs_background": "light"
     },
     "output_type": "display_data"
    }
   ],
   "source": [
    "plt.figure()\n",
    "sns.lmplot(x=\"Fuel_Price\", y =\"Weekly_Sales\", data=df)"
   ]
  },
  {
   "cell_type": "markdown",
   "metadata": {},
   "source": [
    "##### Visualize the relationship between \"Weekly_Sales\", the target, and \"Temperature\""
   ]
  },
  {
   "cell_type": "code",
   "execution_count": 11,
   "metadata": {},
   "outputs": [
    {
     "data": {
      "text/plain": [
       "<seaborn.axisgrid.FacetGrid at 0x7f95d54eb5b0>"
      ]
     },
     "execution_count": 11,
     "metadata": {},
     "output_type": "execute_result"
    },
    {
     "data": {
      "text/plain": [
       "<Figure size 432x288 with 0 Axes>"
      ]
     },
     "metadata": {},
     "output_type": "display_data"
    },
    {
     "data": {
      "image/png": "[encoded data removed]",
      "text/plain": [
       "<Figure size 360x360 with 1 Axes>"
      ]
     },
     "metadata": {
      "needs_background": "light"
     },
     "output_type": "display_data"
    }
   ],
   "source": [
    "plt.figure()\n",
    "sns.lmplot(x=\"Temperature\", y =\"Weekly_Sales\", data=df)"
   ]
  },
  {
   "cell_type": "markdown",
   "metadata": {},
   "source": [
    "##### Show the categories present in the column \"Holiday_Flag\""
   ]
  },
  {
   "cell_type": "code",
   "execution_count": 12,
   "metadata": {},
   "outputs": [
    {
     "name": "stderr",
     "output_type": "stream",
     "text": [
      "/opt/conda/lib/python3.8/site-packages/seaborn/_decorators.py:36: FutureWarning:\n",
      "\n",
      "Pass the following variable as a keyword arg: x. From version 0.12, the only valid positional argument will be `data`, and passing other arguments without an explicit keyword will result in an error or misinterpretation.\n",
      "\n"
     ]
    },
    {
     "data": {
      "text/plain": [
       "<AxesSubplot:xlabel='Holiday_Flag', ylabel='count'>"
      ]
     },
     "execution_count": 12,
     "metadata": {},
     "output_type": "execute_result"
    },
    {
     "data": {
      "image/png": "[encoded data removed]",
      "text/plain": [
       "<Figure size 432x288 with 1 Axes>"
      ]
     },
     "metadata": {
      "needs_background": "light"
     },
     "output_type": "display_data"
    }
   ],
   "source": [
    "sns.countplot(df[\"Holiday_Flag\"])"
   ]
  },
  {
   "cell_type": "markdown",
   "metadata": {},
   "source": [
    "##### Visualize \"Weekly_Sales\", the target, which is a quantitative variable"
   ]
  },
  {
   "cell_type": "code",
   "execution_count": 13,
   "metadata": {},
   "outputs": [
    {
     "name": "stderr",
     "output_type": "stream",
     "text": [
      "/opt/conda/lib/python3.8/site-packages/seaborn/_decorators.py:36: FutureWarning:\n",
      "\n",
      "Pass the following variable as a keyword arg: x. From version 0.12, the only valid positional argument will be `data`, and passing other arguments without an explicit keyword will result in an error or misinterpretation.\n",
      "\n"
     ]
    },
    {
     "data": {
      "text/plain": [
       "<AxesSubplot:xlabel='Weekly_Sales'>"
      ]
     },
     "execution_count": 13,
     "metadata": {},
     "output_type": "execute_result"
    },
    {
     "data": {
      "image/png": "[encoded data removed]",
      "text/plain": [
       "<Figure size 432x288 with 1 Axes>"
      ]
     },
     "metadata": {
      "needs_background": "light"
     },
     "output_type": "display_data"
    }
   ],
   "source": [
    "sns.boxplot(df[\"Weekly_Sales\"])"
   ]
  },
  {
   "cell_type": "markdown",
   "metadata": {},
   "source": [
    "#### Preprocessing with Pandas"
   ]
  },
  {
   "cell_type": "markdown",
   "metadata": {},
   "source": [
    "Drop the lines in the dataset for which the value in \"Weekly_Sales\" column is missing"
   ]
  },
  {
   "cell_type": "code",
   "execution_count": 14,
   "metadata": {},
   "outputs": [
    {
     "name": "stdout",
     "output_type": "stream",
     "text": [
      "Done. Number of lines remaining in dataframe :  136\n",
      "\n"
     ]
    }
   ],
   "source": [
    "df = df.loc[df[\"Weekly_Sales\"].notnull(), :]\n",
    "print('Done. Number of lines remaining in dataframe : ', df.shape[0])\n",
    "print()"
   ]
  },
  {
   "cell_type": "markdown",
   "metadata": {},
   "source": [
    "##### Drop the lines in the dataset for which the value in \"Store\" column is missing"
   ]
  },
  {
   "cell_type": "code",
   "execution_count": 15,
   "metadata": {},
   "outputs": [
    {
     "name": "stdout",
     "output_type": "stream",
     "text": [
      "Done. Number of lines remaining in dataframe :  136\n",
      "\n"
     ]
    }
   ],
   "source": [
    "df = df.loc[df[\"Store\"].notnull(), :]\n",
    "df[\"Store\"] = df[\"Store\"].astype(str)\n",
    "print('Done. Number of lines remaining in dataframe : ', df.shape[0])\n",
    "print()"
   ]
  },
  {
   "cell_type": "markdown",
   "metadata": {},
   "source": [
    "##### Drop the lines in the dataset for which the value in \"Holiday_Flag\" column is missing"
   ]
  },
  {
   "cell_type": "code",
   "execution_count": 16,
   "metadata": {},
   "outputs": [
    {
     "name": "stdout",
     "output_type": "stream",
     "text": [
      "Done. Number of lines remaining :  125\n",
      "\n"
     ]
    }
   ],
   "source": [
    "df = df.loc[df[\"Holiday_Flag\"].notnull(), :]\n",
    "print('Done. Number of lines remaining : ', df.shape[0])\n",
    "print()"
   ]
  },
  {
   "cell_type": "markdown",
   "metadata": {},
   "source": [
    "### Feature engineering from \"Date\" column"
   ]
  },
  {
   "cell_type": "markdown",
   "metadata": {},
   "source": [
    "##### Convert \"Date\" column from string to \"Datetime\" object"
   ]
  },
  {
   "cell_type": "code",
   "execution_count": 17,
   "metadata": {},
   "outputs": [],
   "source": [
    "df[\"Date\"] = pd.to_datetime(df[\"Date\"])"
   ]
  },
  {
   "cell_type": "markdown",
   "metadata": {},
   "source": [
    "##### Create new columns in the dataset that contain the following numeric features : year, month, day and day of week"
   ]
  },
  {
   "cell_type": "code",
   "execution_count": 18,
   "metadata": {},
   "outputs": [],
   "source": [
    "df[\"year\"] = df[\"Date\"].apply(lambda date:date.year)\n",
    "df[\"month\"] = df[\"Date\"].apply(lambda date:date.month)\n",
    "df[\"day\"] = df[\"Date\"].apply(lambda date:date.day)\n",
    "df[\"day_week\"] = df[\"Date\"].apply(lambda date:date.dayofweek)"
   ]
  },
  {
   "cell_type": "code",
   "execution_count": 19,
   "metadata": {},
   "outputs": [
    {
     "name": "stdout",
     "output_type": "stream",
     "text": [
      "<class 'pandas.core.frame.DataFrame'>\n",
      "Int64Index: 125 entries, 1 to 149\n",
      "Data columns (total 12 columns):\n",
      " #   Column        Non-Null Count  Dtype         \n",
      "---  ------        --------------  -----         \n",
      " 0   Store         125 non-null    object        \n",
      " 1   Date          109 non-null    datetime64[ns]\n",
      " 2   Weekly_Sales  125 non-null    float64       \n",
      " 3   Holiday_Flag  125 non-null    float64       \n",
      " 4   Temperature   110 non-null    float64       \n",
      " 5   Fuel_Price    113 non-null    float64       \n",
      " 6   CPI           115 non-null    float64       \n",
      " 7   Unemployment  112 non-null    float64       \n",
      " 8   year          109 non-null    float64       \n",
      " 9   month         109 non-null    float64       \n",
      " 10  day           109 non-null    float64       \n",
      " 11  day_week      109 non-null    float64       \n",
      "dtypes: datetime64[ns](1), float64(10), object(1)\n",
      "memory usage: 12.7+ KB\n"
     ]
    }
   ],
   "source": [
    "df.info()"
   ]
  },
  {
   "cell_type": "markdown",
   "metadata": {},
   "source": [
    "##### Drop the lines in the dataset for which the values in \"year\",\"month\",\"day\" and \"day_week\" columns are missing"
   ]
  },
  {
   "cell_type": "code",
   "execution_count": 20,
   "metadata": {},
   "outputs": [
    {
     "name": "stdout",
     "output_type": "stream",
     "text": [
      "Number of lines remaining in dataframe :  109\n"
     ]
    }
   ],
   "source": [
    "df = df.loc[df[\"year\"].notnull(), :]\n",
    "print('Number of lines remaining in dataframe : ', df.shape[0])"
   ]
  },
  {
   "cell_type": "code",
   "execution_count": 21,
   "metadata": {},
   "outputs": [
    {
     "name": "stdout",
     "output_type": "stream",
     "text": [
      "Number of lines remaining in dataframe :  109\n"
     ]
    }
   ],
   "source": [
    "df = df.loc[df[\"month\"].notnull(), :]\n",
    "print('Number of lines remaining in dataframe : ', df.shape[0])"
   ]
  },
  {
   "cell_type": "code",
   "execution_count": 22,
   "metadata": {},
   "outputs": [
    {
     "name": "stdout",
     "output_type": "stream",
     "text": [
      "Number of lines remaining in dataframe :  109\n"
     ]
    }
   ],
   "source": [
    "df = df.loc[df[\"day\"].notnull(), :]\n",
    "print('Number of lines remaining in dataframe : ', df.shape[0])"
   ]
  },
  {
   "cell_type": "code",
   "execution_count": 23,
   "metadata": {},
   "outputs": [
    {
     "name": "stdout",
     "output_type": "stream",
     "text": [
      "Number of lines remaining in dataset :  109\n"
     ]
    }
   ],
   "source": [
    "df = df.loc[df[\"day_week\"].notnull(), :]\n",
    "print('Number of lines remaining in dataset : ', df.shape[0])"
   ]
  },
  {
   "cell_type": "markdown",
   "metadata": {},
   "source": [
    "##### Drop lines containing outliers"
   ]
  },
  {
   "cell_type": "code",
   "execution_count": 24,
   "metadata": {},
   "outputs": [
    {
     "name": "stdout",
     "output_type": "stream",
     "text": [
      "Dropping outliers of the upper bound of Fuel_Price column\n",
      "Done. Number of lines remaining :  98\n",
      "Dropping outliers of the lower bound of Fuel_Price column\n",
      "Done. Number of lines remaining :  98\n",
      "\n"
     ]
    }
   ],
   "source": [
    "print(\"Dropping outliers of the upper bound of Fuel_Price column\")\n",
    "to_keep = df[\"Fuel_Price\"] <= df[\"Fuel_Price\"].mean() + 3*df[\"Fuel_Price\"].std()\n",
    "df = df.loc[to_keep,:]\n",
    "print('Done. Number of lines remaining : ', df.shape[0])\n",
    "print(\"Dropping outliers of the lower bound of Fuel_Price column\")\n",
    "to_keep = df[\"Fuel_Price\"] >= df[\"Fuel_Price\"].mean() - 3*df[\"Fuel_Price\"].std()\n",
    "df = df.loc[to_keep,:]\n",
    "print('Done. Number of lines remaining : ', df.shape[0])\n",
    "print()"
   ]
  },
  {
   "cell_type": "code",
   "execution_count": 25,
   "metadata": {},
   "outputs": [
    {
     "name": "stdout",
     "output_type": "stream",
     "text": [
      "Dropping outliers of the upper bound of Temperature column\n",
      "Done. Number of lines remaining :  87\n",
      "Dropping outliers of the lower bound of Temperature column\n",
      "Done. Number of lines remaining :  87\n",
      "\n"
     ]
    }
   ],
   "source": [
    "print(\"Dropping outliers of the upper bound of Temperature column\")\n",
    "to_keep = df[\"Temperature\"] <= df[\"Temperature\"].mean() + 3*df[\"Temperature\"].std()\n",
    "df = df.loc[to_keep,:]\n",
    "print('Done. Number of lines remaining : ', df.shape[0])\n",
    "print(\"Dropping outliers of the lower bound of Temperature column\")\n",
    "to_keep = df[\"Temperature\"] >= df[\"Temperature\"].mean() - 3*df[\"Temperature\"].std()\n",
    "df = df.loc[to_keep,:]\n",
    "print('Done. Number of lines remaining : ', df.shape[0])\n",
    "print()"
   ]
  },
  {
   "cell_type": "code",
   "execution_count": 26,
   "metadata": {},
   "outputs": [
    {
     "name": "stdout",
     "output_type": "stream",
     "text": [
      "Dropping outliers of the upper bound of Unemployment column\n",
      "Done. Number of lines remaining :  75\n",
      "Dropping outliers of the lower bound of Unemployment column\n",
      "Done. Number of lines remaining :  75\n",
      "\n"
     ]
    }
   ],
   "source": [
    "print(\"Dropping outliers of the upper bound of Unemployment column\")\n",
    "to_keep = df[\"Unemployment\"] <= df[\"Unemployment\"].mean() + 3*df[\"Unemployment\"].std()\n",
    "df = df.loc[to_keep,:]\n",
    "print('Done. Number of lines remaining : ', df.shape[0])\n",
    "print(\"Dropping outliers of the lower bound of Unemployment column\")\n",
    "to_keep = df[\"Unemployment\"] >= df[\"Unemployment\"].mean() - 3*df[\"Unemployment\"].std()\n",
    "df = df.loc[to_keep,:]\n",
    "print('Done. Number of lines remaining : ', df.shape[0])\n",
    "print()"
   ]
  },
  {
   "cell_type": "code",
   "execution_count": 27,
   "metadata": {},
   "outputs": [
    {
     "name": "stdout",
     "output_type": "stream",
     "text": [
      "Dropping outliers of the upper bound of consumer price index (CPI) column\n",
      "Done. Number of lines remaining :  71\n",
      "Dropping outliers of the lower bound of consumer price index (CPI) column\n",
      "Done. Number of lines remaining :  71\n",
      "\n"
     ]
    }
   ],
   "source": [
    "print(\"Dropping outliers of the upper bound of consumer price index (CPI) column\")\n",
    "to_keep = df[\"CPI\"] <= df[\"CPI\"].mean() + 3*df[\"CPI\"].std()\n",
    "df = df.loc[to_keep,:]\n",
    "print('Done. Number of lines remaining : ', df.shape[0])\n",
    "print(\"Dropping outliers of the lower bound of consumer price index (CPI) column\")\n",
    "to_keep = df[\"CPI\"] >= df[\"CPI\"].mean() - 3*df[\"CPI\"].std()\n",
    "df = df.loc[to_keep,:]\n",
    "print('Done. Number of lines remaining : ', df.shape[0])\n",
    "print()"
   ]
  },
  {
   "cell_type": "code",
   "execution_count": 28,
   "metadata": {},
   "outputs": [
    {
     "data": {
      "text/plain": [
       "(71, 12)"
      ]
     },
     "execution_count": 28,
     "metadata": {},
     "output_type": "execute_result"
    }
   ],
   "source": [
    "df.shape"
   ]
  },
  {
   "cell_type": "code",
   "execution_count": 29,
   "metadata": {},
   "outputs": [
    {
     "name": "stdout",
     "output_type": "stream",
     "text": [
      "<class 'pandas.core.frame.DataFrame'>\n",
      "Int64Index: 71 entries, 1 to 149\n",
      "Data columns (total 12 columns):\n",
      " #   Column        Non-Null Count  Dtype         \n",
      "---  ------        --------------  -----         \n",
      " 0   Store         71 non-null     object        \n",
      " 1   Date          71 non-null     datetime64[ns]\n",
      " 2   Weekly_Sales  71 non-null     float64       \n",
      " 3   Holiday_Flag  71 non-null     float64       \n",
      " 4   Temperature   71 non-null     float64       \n",
      " 5   Fuel_Price    71 non-null     float64       \n",
      " 6   CPI           71 non-null     float64       \n",
      " 7   Unemployment  71 non-null     float64       \n",
      " 8   year          71 non-null     float64       \n",
      " 9   month         71 non-null     float64       \n",
      " 10  day           71 non-null     float64       \n",
      " 11  day_week      71 non-null     float64       \n",
      "dtypes: datetime64[ns](1), float64(10), object(1)\n",
      "memory usage: 7.2+ KB\n"
     ]
    }
   ],
   "source": [
    "df.info()"
   ]
  },
  {
   "cell_type": "markdown",
   "metadata": {},
   "source": [
    "##### Drop the \"Date\" column which is useless after featuring engineering"
   ]
  },
  {
   "cell_type": "code",
   "execution_count": 30,
   "metadata": {},
   "outputs": [],
   "source": [
    "df = df.drop([\"Date\"], axis = 1)"
   ]
  },
  {
   "cell_type": "markdown",
   "metadata": {},
   "source": [
    "##### Ensure that the dataset does not contain any missing values before further processing"
   ]
  },
  {
   "cell_type": "code",
   "execution_count": 31,
   "metadata": {},
   "outputs": [
    {
     "data": {
      "text/plain": [
       "Store           0\n",
       "Weekly_Sales    0\n",
       "Holiday_Flag    0\n",
       "Temperature     0\n",
       "Fuel_Price      0\n",
       "CPI             0\n",
       "Unemployment    0\n",
       "year            0\n",
       "month           0\n",
       "day             0\n",
       "day_week        0\n",
       "dtype: int64"
      ]
     },
     "execution_count": 31,
     "metadata": {},
     "output_type": "execute_result"
    }
   ],
   "source": [
    "df.isnull().sum()"
   ]
  },
  {
   "cell_type": "code",
   "execution_count": 32,
   "metadata": {},
   "outputs": [
    {
     "data": {
      "text/plain": [
       "(71, 11)"
      ]
     },
     "execution_count": 32,
     "metadata": {},
     "output_type": "execute_result"
    }
   ],
   "source": [
    "df.shape"
   ]
  },
  {
   "cell_type": "markdown",
   "metadata": {},
   "source": [
    "#### => Machine learning will be conducted on a dataframe containing 71 lines without any missing values"
   ]
  },
  {
   "cell_type": "markdown",
   "metadata": {},
   "source": [
    "## Experiment 1 : baseline model"
   ]
  },
  {
   "cell_type": "markdown",
   "metadata": {},
   "source": [
    "### Train pipeline for baseline model"
   ]
  },
  {
   "cell_type": "markdown",
   "metadata": {},
   "source": [
    "##### Separate target variable y from features X"
   ]
  },
  {
   "cell_type": "code",
   "execution_count": 33,
   "metadata": {},
   "outputs": [
    {
     "name": "stdout",
     "output_type": "stream",
     "text": [
      "Separating labels from features...\n",
      "...Done.\n",
      "\n",
      "y : \n",
      "1      1807545.43\n",
      "4      1644470.66\n",
      "6       695396.19\n",
      "7      2203523.20\n",
      "10      895066.50\n",
      "          ...    \n",
      "139     532739.77\n",
      "143     396968.80\n",
      "144     424513.08\n",
      "145    2248645.59\n",
      "149    1255087.26\n",
      "Name: Weekly_Sales, Length: 71, dtype: float64\n",
      "\n",
      "X :\n",
      "    Store  Holiday_Flag  Temperature  Fuel_Price         CPI  Unemployment  \\\n",
      "1    13.0           0.0        42.38       3.435  128.616064         7.470   \n",
      "4     6.0           0.0        78.89       2.759  212.412888         7.092   \n",
      "6    15.0           0.0        69.80       4.069  134.855161         7.658   \n",
      "7    20.0           0.0        39.93       3.617  213.023623         6.961   \n",
      "10    8.0           0.0        82.92       3.554  219.070197         6.425   \n",
      "..    ...           ...          ...         ...         ...           ...   \n",
      "139   7.0           0.0        50.60       3.804  197.588605         8.090   \n",
      "143   3.0           0.0        78.53       2.705  214.495838         7.343   \n",
      "144   3.0           0.0        73.44       3.594  226.968844         6.034   \n",
      "145  14.0           0.0        72.62       2.780  182.442420         8.899   \n",
      "149  19.0           0.0        55.20       4.170  137.923067         8.150   \n",
      "\n",
      "       year  month   day  day_week  \n",
      "1    2011.0    3.0  25.0       4.0  \n",
      "4    2010.0    5.0  28.0       4.0  \n",
      "6    2011.0    3.0   6.0       6.0  \n",
      "7    2012.0    3.0   2.0       4.0  \n",
      "10   2011.0    8.0  19.0       4.0  \n",
      "..      ...    ...   ...       ...  \n",
      "139  2012.0    5.0  25.0       4.0  \n",
      "143  2010.0    4.0   6.0       1.0  \n",
      "144  2012.0   10.0  19.0       4.0  \n",
      "145  2010.0    6.0  18.0       4.0  \n",
      "149  2012.0    4.0  20.0       4.0  \n",
      "\n",
      "[71 rows x 10 columns]\n"
     ]
    }
   ],
   "source": [
    "print(\"Separating labels from features...\")\n",
    "features_list = [\"Store\", \"Holiday_Flag\",\"Temperature\", \"Fuel_Price\", \"CPI\", \"Unemployment\", \"month\", \"year\",\"day\", \"day_week\"]\n",
    "target_variable = \"Weekly_Sales\"\n",
    "\n",
    "X = df.drop(\"Weekly_Sales\", axis=1)\n",
    "y = df[\"Weekly_Sales\"]\n",
    "\n",
    "print(\"...Done.\")\n",
    "print()\n",
    "\n",
    "print('y : ')\n",
    "print(y)\n",
    "print()\n",
    "print('X :')\n",
    "print(X)"
   ]
  },
  {
   "cell_type": "markdown",
   "metadata": {},
   "source": [
    "##### One hot-encoding categorical features \"Store\" and \"Holiday_Flag\""
   ]
  },
  {
   "cell_type": "code",
   "execution_count": 34,
   "metadata": {},
   "outputs": [],
   "source": [
    "dummies_store = pd.get_dummies(X[\"Store\"], prefix=[\"store\"], drop_first=True)"
   ]
  },
  {
   "cell_type": "code",
   "execution_count": 35,
   "metadata": {},
   "outputs": [],
   "source": [
    "dummies_holiday = pd.get_dummies(X[\"Holiday_Flag\"], prefix=[\"holi\"], drop_first=True)"
   ]
  },
  {
   "cell_type": "code",
   "execution_count": 36,
   "metadata": {},
   "outputs": [],
   "source": [
    "X = X.drop(\"Store\", axis=1)"
   ]
  },
  {
   "cell_type": "code",
   "execution_count": 37,
   "metadata": {},
   "outputs": [],
   "source": [
    "X = X.drop(\"Holiday_Flag\", axis=1)"
   ]
  },
  {
   "cell_type": "code",
   "execution_count": 38,
   "metadata": {},
   "outputs": [],
   "source": [
    "X = pd.concat([X, dummies_store], axis=1)"
   ]
  },
  {
   "cell_type": "code",
   "execution_count": 39,
   "metadata": {},
   "outputs": [],
   "source": [
    "X = pd.concat([X, dummies_holiday], axis=1)"
   ]
  },
  {
   "cell_type": "code",
   "execution_count": 40,
   "metadata": {},
   "outputs": [
    {
     "data": {
      "text/html": [
       "<div>\n",
       "<style scoped>\n",
       "    .dataframe tbody tr th:only-of-type {\n",
       "        vertical-align: middle;\n",
       "    }\n",
       "\n",
       "    .dataframe tbody tr th {\n",
       "        vertical-align: top;\n",
       "    }\n",
       "\n",
       "    .dataframe thead th {\n",
       "        text-align: right;\n",
       "    }\n",
       "</style>\n",
       "<table border=\"1\" class=\"dataframe\">\n",
       "  <thead>\n",
       "    <tr style=\"text-align: right;\">\n",
       "      <th></th>\n",
       "      <th>Temperature</th>\n",
       "      <th>Fuel_Price</th>\n",
       "      <th>CPI</th>\n",
       "      <th>Unemployment</th>\n",
       "      <th>year</th>\n",
       "      <th>month</th>\n",
       "      <th>day</th>\n",
       "      <th>day_week</th>\n",
       "      <th>['store']_10.0</th>\n",
       "      <th>['store']_11.0</th>\n",
       "      <th>...</th>\n",
       "      <th>['store']_2.0</th>\n",
       "      <th>['store']_20.0</th>\n",
       "      <th>['store']_3.0</th>\n",
       "      <th>['store']_4.0</th>\n",
       "      <th>['store']_5.0</th>\n",
       "      <th>['store']_6.0</th>\n",
       "      <th>['store']_7.0</th>\n",
       "      <th>['store']_8.0</th>\n",
       "      <th>['store']_9.0</th>\n",
       "      <th>['holi']_1.0</th>\n",
       "    </tr>\n",
       "  </thead>\n",
       "  <tbody>\n",
       "    <tr>\n",
       "      <th>1</th>\n",
       "      <td>42.38</td>\n",
       "      <td>3.435</td>\n",
       "      <td>128.616064</td>\n",
       "      <td>7.470</td>\n",
       "      <td>2011.0</td>\n",
       "      <td>3.0</td>\n",
       "      <td>25.0</td>\n",
       "      <td>4.0</td>\n",
       "      <td>0</td>\n",
       "      <td>0</td>\n",
       "      <td>...</td>\n",
       "      <td>0</td>\n",
       "      <td>0</td>\n",
       "      <td>0</td>\n",
       "      <td>0</td>\n",
       "      <td>0</td>\n",
       "      <td>0</td>\n",
       "      <td>0</td>\n",
       "      <td>0</td>\n",
       "      <td>0</td>\n",
       "      <td>0</td>\n",
       "    </tr>\n",
       "    <tr>\n",
       "      <th>4</th>\n",
       "      <td>78.89</td>\n",
       "      <td>2.759</td>\n",
       "      <td>212.412888</td>\n",
       "      <td>7.092</td>\n",
       "      <td>2010.0</td>\n",
       "      <td>5.0</td>\n",
       "      <td>28.0</td>\n",
       "      <td>4.0</td>\n",
       "      <td>0</td>\n",
       "      <td>0</td>\n",
       "      <td>...</td>\n",
       "      <td>0</td>\n",
       "      <td>0</td>\n",
       "      <td>0</td>\n",
       "      <td>0</td>\n",
       "      <td>0</td>\n",
       "      <td>1</td>\n",
       "      <td>0</td>\n",
       "      <td>0</td>\n",
       "      <td>0</td>\n",
       "      <td>0</td>\n",
       "    </tr>\n",
       "    <tr>\n",
       "      <th>6</th>\n",
       "      <td>69.80</td>\n",
       "      <td>4.069</td>\n",
       "      <td>134.855161</td>\n",
       "      <td>7.658</td>\n",
       "      <td>2011.0</td>\n",
       "      <td>3.0</td>\n",
       "      <td>6.0</td>\n",
       "      <td>6.0</td>\n",
       "      <td>0</td>\n",
       "      <td>0</td>\n",
       "      <td>...</td>\n",
       "      <td>0</td>\n",
       "      <td>0</td>\n",
       "      <td>0</td>\n",
       "      <td>0</td>\n",
       "      <td>0</td>\n",
       "      <td>0</td>\n",
       "      <td>0</td>\n",
       "      <td>0</td>\n",
       "      <td>0</td>\n",
       "      <td>0</td>\n",
       "    </tr>\n",
       "    <tr>\n",
       "      <th>7</th>\n",
       "      <td>39.93</td>\n",
       "      <td>3.617</td>\n",
       "      <td>213.023623</td>\n",
       "      <td>6.961</td>\n",
       "      <td>2012.0</td>\n",
       "      <td>3.0</td>\n",
       "      <td>2.0</td>\n",
       "      <td>4.0</td>\n",
       "      <td>0</td>\n",
       "      <td>0</td>\n",
       "      <td>...</td>\n",
       "      <td>0</td>\n",
       "      <td>1</td>\n",
       "      <td>0</td>\n",
       "      <td>0</td>\n",
       "      <td>0</td>\n",
       "      <td>0</td>\n",
       "      <td>0</td>\n",
       "      <td>0</td>\n",
       "      <td>0</td>\n",
       "      <td>0</td>\n",
       "    </tr>\n",
       "    <tr>\n",
       "      <th>10</th>\n",
       "      <td>82.92</td>\n",
       "      <td>3.554</td>\n",
       "      <td>219.070197</td>\n",
       "      <td>6.425</td>\n",
       "      <td>2011.0</td>\n",
       "      <td>8.0</td>\n",
       "      <td>19.0</td>\n",
       "      <td>4.0</td>\n",
       "      <td>0</td>\n",
       "      <td>0</td>\n",
       "      <td>...</td>\n",
       "      <td>0</td>\n",
       "      <td>0</td>\n",
       "      <td>0</td>\n",
       "      <td>0</td>\n",
       "      <td>0</td>\n",
       "      <td>0</td>\n",
       "      <td>0</td>\n",
       "      <td>1</td>\n",
       "      <td>0</td>\n",
       "      <td>0</td>\n",
       "    </tr>\n",
       "    <tr>\n",
       "      <th>...</th>\n",
       "      <td>...</td>\n",
       "      <td>...</td>\n",
       "      <td>...</td>\n",
       "      <td>...</td>\n",
       "      <td>...</td>\n",
       "      <td>...</td>\n",
       "      <td>...</td>\n",
       "      <td>...</td>\n",
       "      <td>...</td>\n",
       "      <td>...</td>\n",
       "      <td>...</td>\n",
       "      <td>...</td>\n",
       "      <td>...</td>\n",
       "      <td>...</td>\n",
       "      <td>...</td>\n",
       "      <td>...</td>\n",
       "      <td>...</td>\n",
       "      <td>...</td>\n",
       "      <td>...</td>\n",
       "      <td>...</td>\n",
       "      <td>...</td>\n",
       "    </tr>\n",
       "    <tr>\n",
       "      <th>139</th>\n",
       "      <td>50.60</td>\n",
       "      <td>3.804</td>\n",
       "      <td>197.588605</td>\n",
       "      <td>8.090</td>\n",
       "      <td>2012.0</td>\n",
       "      <td>5.0</td>\n",
       "      <td>25.0</td>\n",
       "      <td>4.0</td>\n",
       "      <td>0</td>\n",
       "      <td>0</td>\n",
       "      <td>...</td>\n",
       "      <td>0</td>\n",
       "      <td>0</td>\n",
       "      <td>0</td>\n",
       "      <td>0</td>\n",
       "      <td>0</td>\n",
       "      <td>0</td>\n",
       "      <td>1</td>\n",
       "      <td>0</td>\n",
       "      <td>0</td>\n",
       "      <td>0</td>\n",
       "    </tr>\n",
       "    <tr>\n",
       "      <th>143</th>\n",
       "      <td>78.53</td>\n",
       "      <td>2.705</td>\n",
       "      <td>214.495838</td>\n",
       "      <td>7.343</td>\n",
       "      <td>2010.0</td>\n",
       "      <td>4.0</td>\n",
       "      <td>6.0</td>\n",
       "      <td>1.0</td>\n",
       "      <td>0</td>\n",
       "      <td>0</td>\n",
       "      <td>...</td>\n",
       "      <td>0</td>\n",
       "      <td>0</td>\n",
       "      <td>1</td>\n",
       "      <td>0</td>\n",
       "      <td>0</td>\n",
       "      <td>0</td>\n",
       "      <td>0</td>\n",
       "      <td>0</td>\n",
       "      <td>0</td>\n",
       "      <td>0</td>\n",
       "    </tr>\n",
       "    <tr>\n",
       "      <th>144</th>\n",
       "      <td>73.44</td>\n",
       "      <td>3.594</td>\n",
       "      <td>226.968844</td>\n",
       "      <td>6.034</td>\n",
       "      <td>2012.0</td>\n",
       "      <td>10.0</td>\n",
       "      <td>19.0</td>\n",
       "      <td>4.0</td>\n",
       "      <td>0</td>\n",
       "      <td>0</td>\n",
       "      <td>...</td>\n",
       "      <td>0</td>\n",
       "      <td>0</td>\n",
       "      <td>1</td>\n",
       "      <td>0</td>\n",
       "      <td>0</td>\n",
       "      <td>0</td>\n",
       "      <td>0</td>\n",
       "      <td>0</td>\n",
       "      <td>0</td>\n",
       "      <td>0</td>\n",
       "    </tr>\n",
       "    <tr>\n",
       "      <th>145</th>\n",
       "      <td>72.62</td>\n",
       "      <td>2.780</td>\n",
       "      <td>182.442420</td>\n",
       "      <td>8.899</td>\n",
       "      <td>2010.0</td>\n",
       "      <td>6.0</td>\n",
       "      <td>18.0</td>\n",
       "      <td>4.0</td>\n",
       "      <td>0</td>\n",
       "      <td>0</td>\n",
       "      <td>...</td>\n",
       "      <td>0</td>\n",
       "      <td>0</td>\n",
       "      <td>0</td>\n",
       "      <td>0</td>\n",
       "      <td>0</td>\n",
       "      <td>0</td>\n",
       "      <td>0</td>\n",
       "      <td>0</td>\n",
       "      <td>0</td>\n",
       "      <td>0</td>\n",
       "    </tr>\n",
       "    <tr>\n",
       "      <th>149</th>\n",
       "      <td>55.20</td>\n",
       "      <td>4.170</td>\n",
       "      <td>137.923067</td>\n",
       "      <td>8.150</td>\n",
       "      <td>2012.0</td>\n",
       "      <td>4.0</td>\n",
       "      <td>20.0</td>\n",
       "      <td>4.0</td>\n",
       "      <td>0</td>\n",
       "      <td>0</td>\n",
       "      <td>...</td>\n",
       "      <td>0</td>\n",
       "      <td>0</td>\n",
       "      <td>0</td>\n",
       "      <td>0</td>\n",
       "      <td>0</td>\n",
       "      <td>0</td>\n",
       "      <td>0</td>\n",
       "      <td>0</td>\n",
       "      <td>0</td>\n",
       "      <td>0</td>\n",
       "    </tr>\n",
       "  </tbody>\n",
       "</table>\n",
       "<p>71 rows × 27 columns</p>\n",
       "</div>"
      ],
      "text/plain": [
       "     Temperature  Fuel_Price         CPI  Unemployment    year  month   day  \\\n",
       "1          42.38       3.435  128.616064         7.470  2011.0    3.0  25.0   \n",
       "4          78.89       2.759  212.412888         7.092  2010.0    5.0  28.0   \n",
       "6          69.80       4.069  134.855161         7.658  2011.0    3.0   6.0   \n",
       "7          39.93       3.617  213.023623         6.961  2012.0    3.0   2.0   \n",
       "10         82.92       3.554  219.070197         6.425  2011.0    8.0  19.0   \n",
       "..           ...         ...         ...           ...     ...    ...   ...   \n",
       "139        50.60       3.804  197.588605         8.090  2012.0    5.0  25.0   \n",
       "143        78.53       2.705  214.495838         7.343  2010.0    4.0   6.0   \n",
       "144        73.44       3.594  226.968844         6.034  2012.0   10.0  19.0   \n",
       "145        72.62       2.780  182.442420         8.899  2010.0    6.0  18.0   \n",
       "149        55.20       4.170  137.923067         8.150  2012.0    4.0  20.0   \n",
       "\n",
       "     day_week  ['store']_10.0  ['store']_11.0  ...  ['store']_2.0  \\\n",
       "1         4.0               0               0  ...              0   \n",
       "4         4.0               0               0  ...              0   \n",
       "6         6.0               0               0  ...              0   \n",
       "7         4.0               0               0  ...              0   \n",
       "10        4.0               0               0  ...              0   \n",
       "..        ...             ...             ...  ...            ...   \n",
       "139       4.0               0               0  ...              0   \n",
       "143       1.0               0               0  ...              0   \n",
       "144       4.0               0               0  ...              0   \n",
       "145       4.0               0               0  ...              0   \n",
       "149       4.0               0               0  ...              0   \n",
       "\n",
       "     ['store']_20.0  ['store']_3.0  ['store']_4.0  ['store']_5.0  \\\n",
       "1                 0              0              0              0   \n",
       "4                 0              0              0              0   \n",
       "6                 0              0              0              0   \n",
       "7                 1              0              0              0   \n",
       "10                0              0              0              0   \n",
       "..              ...            ...            ...            ...   \n",
       "139               0              0              0              0   \n",
       "143               0              1              0              0   \n",
       "144               0              1              0              0   \n",
       "145               0              0              0              0   \n",
       "149               0              0              0              0   \n",
       "\n",
       "     ['store']_6.0  ['store']_7.0  ['store']_8.0  ['store']_9.0  ['holi']_1.0  \n",
       "1                0              0              0              0             0  \n",
       "4                1              0              0              0             0  \n",
       "6                0              0              0              0             0  \n",
       "7                0              0              0              0             0  \n",
       "10               0              0              1              0             0  \n",
       "..             ...            ...            ...            ...           ...  \n",
       "139              0              1              0              0             0  \n",
       "143              0              0              0              0             0  \n",
       "144              0              0              0              0             0  \n",
       "145              0              0              0              0             0  \n",
       "149              0              0              0              0             0  \n",
       "\n",
       "[71 rows x 27 columns]"
      ]
     },
     "execution_count": 40,
     "metadata": {},
     "output_type": "execute_result"
    }
   ],
   "source": [
    "X"
   ]
  },
  {
   "cell_type": "code",
   "execution_count": 41,
   "metadata": {},
   "outputs": [
    {
     "data": {
      "text/plain": [
       "(71, 27)"
      ]
     },
     "execution_count": 41,
     "metadata": {},
     "output_type": "execute_result"
    }
   ],
   "source": [
    "X.shape"
   ]
  },
  {
   "cell_type": "markdown",
   "metadata": {},
   "source": [
    "##### Divide dataset into train & test sets"
   ]
  },
  {
   "cell_type": "code",
   "execution_count": 42,
   "metadata": {},
   "outputs": [
    {
     "name": "stdout",
     "output_type": "stream",
     "text": [
      "Dividing into train and test sets...\n",
      "...Done.\n",
      "\n"
     ]
    }
   ],
   "source": [
    "print(\"Dividing into train and test sets...\")\n",
    "X_train, X_test, y_train, y_test = train_test_split(X, y, test_size=0.2, random_state=42)\n",
    "print(\"...Done.\")\n",
    "print()"
   ]
  },
  {
   "cell_type": "markdown",
   "metadata": {},
   "source": [
    "##### Standardization of the train dataframe before training the model"
   ]
  },
  {
   "cell_type": "code",
   "execution_count": 43,
   "metadata": {},
   "outputs": [
    {
     "name": "stdout",
     "output_type": "stream",
     "text": [
      "Standardizing numerical features...\n",
      "\n",
      "     Temperature  Fuel_Price         CPI  Unemployment    year  month   day  \\\n",
      "54         86.87       3.666  130.719633         7.170  2012.0    6.0   7.0   \n",
      "122        57.84       3.596  198.095048         7.872  2012.0    7.0   9.0   \n",
      "63         69.17       3.594  224.019287         5.422  2012.0   10.0  19.0   \n",
      "121        89.42       3.682  216.046436         6.529  2011.0    7.0  29.0   \n",
      "78         62.25       3.308  218.220509         7.866  2011.0   11.0  18.0   \n",
      "\n",
      "     day_week  ['store']_10.0  ['store']_11.0  ...  ['store']_2.0  \\\n",
      "54        3.0               1               0  ...              0   \n",
      "122       0.0               0               0  ...              0   \n",
      "63        4.0               0               0  ...              0   \n",
      "121       4.0               0               0  ...              0   \n",
      "78        4.0               0               0  ...              0   \n",
      "\n",
      "     ['store']_20.0  ['store']_3.0  ['store']_4.0  ['store']_5.0  \\\n",
      "54                0              0              0              0   \n",
      "122               0              0              0              0   \n",
      "63                0              0              0              1   \n",
      "121               0              0              0              1   \n",
      "78                0              0              0              0   \n",
      "\n",
      "     ['store']_6.0  ['store']_7.0  ['store']_8.0  ['store']_9.0  ['holi']_1.0  \n",
      "54               0              0              0              0             0  \n",
      "122              0              1              0              0             1  \n",
      "63               0              0              0              0             0  \n",
      "121              0              0              0              0             0  \n",
      "78               0              0              0              0             0  \n",
      "\n",
      "[5 rows x 27 columns]\n",
      "...Done\n",
      "[[ 1.5802326   0.70358661 -1.2282192  -0.04204051  1.15470054 -0.2035035\n",
      "  -0.95542529 -0.38445547  5.19615242  0.         -0.31311215 -0.13483997\n",
      "  -0.19245009 -0.19245009 -0.23791548 -0.19245009 -0.2773501  -0.23791548\n",
      "  -0.23791548 -0.37796447 -0.2773501  -0.2773501  -0.19245009 -0.31311215\n",
      "  -0.19245009 -0.13483997 -0.2773501 ]\n",
      " [-0.16910349  0.55862395  0.46060066  0.71642506  1.15470054  0.08870665\n",
      "  -0.72127292 -2.40284666 -0.19245009  0.         -0.31311215 -0.13483997\n",
      "  -0.19245009 -0.19245009 -0.23791548 -0.19245009 -0.2773501  -0.23791548\n",
      "  -0.23791548 -0.37796447 -0.2773501  -0.2773501  -0.19245009  3.19374388\n",
      "  -0.19245009 -0.13483997  3.60555128]\n",
      " [ 0.51363774  0.55448216  1.11041291 -1.93064139  1.15470054  0.96533711\n",
      "   0.44948892  0.2883416  -0.19245009  0.         -0.31311215 -0.13483997\n",
      "  -0.19245009 -0.19245009 -0.23791548 -0.19245009 -0.2773501  -0.23791548\n",
      "  -0.23791548 -0.37796447 -0.2773501   3.60555128 -0.19245009 -0.31311215\n",
      "  -0.19245009 -0.13483997 -0.2773501 ]\n",
      " [ 1.73389458  0.73672093  0.91056688 -0.73459953  0.          0.08870665\n",
      "   1.62025076  0.2883416  -0.19245009  0.         -0.31311215 -0.13483997\n",
      "  -0.19245009 -0.19245009 -0.23791548 -0.19245009 -0.2773501  -0.23791548\n",
      "  -0.23791548 -0.37796447 -0.2773501   3.60555128 -0.19245009 -0.31311215\n",
      "  -0.19245009 -0.13483997 -0.2773501 ]\n",
      " [ 0.09664133 -0.03779384  0.96506178  0.70994245  0.          1.25754726\n",
      "   0.33241274  0.2883416  -0.19245009  0.         -0.31311215 -0.13483997\n",
      "  -0.19245009 -0.19245009 -0.23791548 -0.19245009 -0.2773501  -0.23791548\n",
      "  -0.23791548 -0.37796447 -0.2773501  -0.2773501  -0.19245009 -0.31311215\n",
      "  -0.19245009 -0.13483997 -0.2773501 ]]\n"
     ]
    }
   ],
   "source": [
    "# Standardizing numerical features\n",
    "print(\"Standardizing numerical features...\")\n",
    "print()\n",
    "print(X_train.iloc[0:5,:])\n",
    "\n",
    "# Standardization\n",
    "scaler = StandardScaler()\n",
    "\n",
    "X_train_transformed = scaler.fit_transform(X_train)\n",
    "print(\"...Done\")\n",
    "print(X_train_transformed[0:5,:])"
   ]
  },
  {
   "cell_type": "markdown",
   "metadata": {},
   "source": [
    "#### Creating the baseline model"
   ]
  },
  {
   "cell_type": "code",
   "execution_count": 44,
   "metadata": {},
   "outputs": [
    {
     "name": "stdout",
     "output_type": "stream",
     "text": [
      "Train model...\n",
      "...Done.\n"
     ]
    }
   ],
   "source": [
    "print(\"Train model...\")\n",
    "regressor = LinearRegression()\n",
    "regressor.fit(X_train_transformed, y_train)\n",
    "print(\"...Done.\")"
   ]
  },
  {
   "cell_type": "markdown",
   "metadata": {},
   "source": [
    "#### Prediction on train set"
   ]
  },
  {
   "cell_type": "code",
   "execution_count": 45,
   "metadata": {},
   "outputs": [
    {
     "name": "stdout",
     "output_type": "stream",
     "text": [
      "Predictions on training set...\n",
      "...Done.\n",
      "[1877163.46654479  471695.46813985  433934.47955835   78806.85757043\n",
      " 1622484.70776265  878690.33149116 1919207.3434552  1811383.30347186\n",
      " 2074590.34586851 1586118.83651639 1894721.90748593 2411918.09228761\n",
      "  482792.50451739 1534915.57748215  219153.09423632  880945.07384903\n",
      " 1937264.58209552  249955.78310458 2291317.77337029 1377063.67668621\n",
      " 1276427.40006913 2144410.37041855  626968.87613541  489544.07563941\n",
      "  783169.27913778  511859.18640271  488943.34297775 2464770.55509845\n",
      " 1606615.4176423  2093770.43667881 2248645.59        456774.03922283\n",
      "  463718.56077717  655146.95992212 1493044.69754233 2021201.03877404\n",
      " 1869515.10954167  483439.84283293 2131871.54038674 1102574.99345823\n",
      "  844579.55615097  437299.32853327 2030258.85530834 1137621.85654178\n",
      " 1855767.81698648  519823.3         466044.32634427 1677214.1723577\n",
      " 1428973.56570231  406638.92976664  610860.46007788 1609646.29823881\n",
      " 2109918.1522272   413525.86070832  844964.75937107  372920.61353237]\n",
      "\n"
     ]
    }
   ],
   "source": [
    "print(\"Predictions on training set...\")\n",
    "y_train_pred = regressor.predict(X_train_transformed)\n",
    "print(\"...Done.\")\n",
    "print(y_train_pred)\n",
    "print()"
   ]
  },
  {
   "cell_type": "markdown",
   "metadata": {},
   "source": [
    "### Test pipeline of the baseline model"
   ]
  },
  {
   "cell_type": "code",
   "execution_count": 46,
   "metadata": {},
   "outputs": [
    {
     "data": {
      "text/plain": [
       "(15, 27)"
      ]
     },
     "execution_count": 46,
     "metadata": {},
     "output_type": "execute_result"
    }
   ],
   "source": [
    "X_test.shape"
   ]
  },
  {
   "cell_type": "markdown",
   "metadata": {},
   "source": [
    "##### Standardization of the test dataframe before prediction"
   ]
  },
  {
   "cell_type": "code",
   "execution_count": 47,
   "metadata": {},
   "outputs": [
    {
     "name": "stdout",
     "output_type": "stream",
     "text": [
      "Standardizing numerical features...\n",
      "\n",
      "     Temperature  Fuel_Price         CPI  Unemployment    year  month   day  \\\n",
      "40         50.43       4.023  137.978133         8.304  2012.0    4.0  27.0   \n",
      "1          42.38       3.435  128.616064         7.470  2011.0    3.0  25.0   \n",
      "100        83.52       2.637  214.785826         7.343  2010.0    6.0  18.0   \n",
      "10         82.92       3.554  219.070197         6.425  2011.0    8.0  19.0   \n",
      "114        69.90       2.735  215.061402         7.564  2010.0   11.0  26.0   \n",
      "\n",
      "     day_week  ['store']_10.0  ['store']_11.0  ...  ['store']_2.0  \\\n",
      "40        4.0               0               0  ...              0   \n",
      "1         4.0               0               0  ...              0   \n",
      "100       4.0               0               0  ...              0   \n",
      "10        4.0               0               0  ...              0   \n",
      "114       4.0               0               1  ...              0   \n",
      "\n",
      "     ['store']_20.0  ['store']_3.0  ['store']_4.0  ['store']_5.0  \\\n",
      "40                0              0              0              0   \n",
      "1                 0              0              0              0   \n",
      "100               0              1              0              0   \n",
      "10                0              0              0              0   \n",
      "114               0              0              0              0   \n",
      "\n",
      "     ['store']_6.0  ['store']_7.0  ['store']_8.0  ['store']_9.0  ['holi']_1.0  \n",
      "40               0              0              0              0             0  \n",
      "1                0              0              0              0             0  \n",
      "100              0              0              0              0             0  \n",
      "10               0              0              1              0             0  \n",
      "114              0              0              0              0             1  \n",
      "\n",
      "[5 rows x 27 columns]\n",
      "...Done\n",
      "[[-0.61562711  1.44289616 -1.04627897  1.1831731   1.15470054 -0.7879238\n",
      "   1.38609839  0.2883416  -0.19245009  0.         -0.31311215 -0.13483997\n",
      "  -0.19245009 -0.19245009 -0.23791548  5.19615242 -0.2773501  -0.23791548\n",
      "  -0.23791548 -0.37796447 -0.2773501  -0.2773501  -0.19245009 -0.31311215\n",
      "  -0.19245009 -0.13483997 -0.2773501 ]\n",
      " [-1.10071686  0.22520984 -1.28094688  0.28209008  0.         -1.08013395\n",
      "   1.15194603  0.2883416  -0.19245009  0.          3.19374388 -0.13483997\n",
      "  -0.19245009 -0.19245009 -0.23791548 -0.19245009 -0.2773501  -0.23791548\n",
      "  -0.23791548 -0.37796447 -0.2773501  -0.2773501  -0.19245009 -0.31311215\n",
      "  -0.19245009 -0.13483997 -0.2773501 ]\n",
      " [ 1.37836296 -1.42736445  0.87896865  0.1448748  -1.15470054 -0.2035035\n",
      "   0.33241274  0.2883416  -0.19245009  0.         -0.31311215 -0.13483997\n",
      "  -0.19245009 -0.19245009 -0.23791548 -0.19245009 -0.2773501  -0.23791548\n",
      "  -0.23791548  2.64575131 -0.2773501  -0.2773501  -0.19245009 -0.31311215\n",
      "  -0.19245009 -0.13483997 -0.2773501 ]\n",
      " [ 1.3422072   0.47164636  0.98635991 -0.8469648   0.          0.3809168\n",
      "   0.44948892  0.2883416  -0.19245009  0.         -0.31311215 -0.13483997\n",
      "  -0.19245009 -0.19245009 -0.23791548 -0.19245009 -0.2773501  -0.23791548\n",
      "  -0.23791548 -0.37796447 -0.2773501  -0.2773501  -0.19245009 -0.31311215\n",
      "   5.19615242 -0.13483997 -0.2773501 ]\n",
      " [ 0.55762725 -1.22441673  0.8858762   0.38365099 -1.15470054  1.25754726\n",
      "   1.26902221  0.2883416  -0.19245009  1.         -0.31311215 -0.13483997\n",
      "  -0.19245009 -0.19245009 -0.23791548 -0.19245009 -0.2773501  -0.23791548\n",
      "  -0.23791548 -0.37796447 -0.2773501  -0.2773501  -0.19245009 -0.31311215\n",
      "  -0.19245009 -0.13483997  3.60555128]]\n"
     ]
    }
   ],
   "source": [
    "# Standardizing numerical features\n",
    "print(\"Standardizing numerical features...\")\n",
    "print()\n",
    "print(X_test.iloc[0:5,:])\n",
    "\n",
    "\n",
    "X_test_transformed = scaler.transform(X_test)\n",
    "print(\"...Done\")\n",
    "print(X_test_transformed[0:5,:])"
   ]
  },
  {
   "cell_type": "markdown",
   "metadata": {},
   "source": [
    "### Predictions on test set"
   ]
  },
  {
   "cell_type": "code",
   "execution_count": 48,
   "metadata": {},
   "outputs": [
    {
     "name": "stdout",
     "output_type": "stream",
     "text": [
      "Predictions on test set...\n",
      "...Done.\n",
      "[ 937770.23402637 2044775.87732891  332418.22429154  704350.80624989\n",
      " 1525858.73292734 1424911.4171542   168856.96211554 2295663.45325543\n",
      " 2109973.70883814 1526495.42650038 2011201.90689612  683594.45174342\n",
      "  628713.45677532 1122665.5775444   940315.23332848]\n",
      "\n"
     ]
    }
   ],
   "source": [
    "print(\"Predictions on test set...\")\n",
    "y_test_pred = regressor.predict(X_test_transformed)\n",
    "print(\"...Done.\")\n",
    "print(y_test_pred)\n",
    "print()"
   ]
  },
  {
   "cell_type": "markdown",
   "metadata": {},
   "source": [
    "### R2 scores of the baseline model"
   ]
  },
  {
   "cell_type": "code",
   "execution_count": 49,
   "metadata": {},
   "outputs": [
    {
     "name": "stdout",
     "output_type": "stream",
     "text": [
      "R2 score on training set :  0.9862582691247349\n",
      "R2 score on test set :  0.9281436573874544\n"
     ]
    }
   ],
   "source": [
    "print(\"R2 score on training set : \", r2_score(y_train, y_train_pred))\n",
    "print(\"R2 score on test set : \", r2_score(y_test, y_test_pred))"
   ]
  },
  {
   "cell_type": "markdown",
   "metadata": {},
   "source": [
    "#####The model performs much better on the training data than on the test data. This is the hallmark of an overfitting model. Furthermore, fifty-six rows of data have been used to train the model. If a much larger training set is used, this overfitting problem can be solved to some extent."
   ]
  },
  {
   "cell_type": "markdown",
   "metadata": {},
   "source": [
    "##### Visualizing the difference between the actual values and the predicted values"
   ]
  },
  {
   "cell_type": "code",
   "execution_count": 50,
   "metadata": {},
   "outputs": [
    {
     "data": {
      "text/html": [
       "<div>\n",
       "<style scoped>\n",
       "    .dataframe tbody tr th:only-of-type {\n",
       "        vertical-align: middle;\n",
       "    }\n",
       "\n",
       "    .dataframe tbody tr th {\n",
       "        vertical-align: top;\n",
       "    }\n",
       "\n",
       "    .dataframe thead th {\n",
       "        text-align: right;\n",
       "    }\n",
       "</style>\n",
       "<table border=\"1\" class=\"dataframe\">\n",
       "  <thead>\n",
       "    <tr style=\"text-align: right;\">\n",
       "      <th></th>\n",
       "      <th>Actual value</th>\n",
       "      <th>Predicted value</th>\n",
       "    </tr>\n",
       "  </thead>\n",
       "  <tbody>\n",
       "    <tr>\n",
       "      <th>40</th>\n",
       "      <td>961186.23</td>\n",
       "      <td>9.377702e+05</td>\n",
       "    </tr>\n",
       "    <tr>\n",
       "      <th>1</th>\n",
       "      <td>1807545.43</td>\n",
       "      <td>2.044776e+06</td>\n",
       "    </tr>\n",
       "    <tr>\n",
       "      <th>100</th>\n",
       "      <td>364076.85</td>\n",
       "      <td>3.324182e+05</td>\n",
       "    </tr>\n",
       "    <tr>\n",
       "      <th>10</th>\n",
       "      <td>895066.50</td>\n",
       "      <td>7.043508e+05</td>\n",
       "    </tr>\n",
       "    <tr>\n",
       "      <th>114</th>\n",
       "      <td>1757242.51</td>\n",
       "      <td>1.525859e+06</td>\n",
       "    </tr>\n",
       "    <tr>\n",
       "      <th>35</th>\n",
       "      <td>1266564.94</td>\n",
       "      <td>1.424911e+06</td>\n",
       "    </tr>\n",
       "    <tr>\n",
       "      <th>21</th>\n",
       "      <td>290930.01</td>\n",
       "      <td>1.688570e+05</td>\n",
       "    </tr>\n",
       "    <tr>\n",
       "      <th>59</th>\n",
       "      <td>2020550.99</td>\n",
       "      <td>2.295663e+06</td>\n",
       "    </tr>\n",
       "    <tr>\n",
       "      <th>94</th>\n",
       "      <td>1953544.76</td>\n",
       "      <td>2.109974e+06</td>\n",
       "    </tr>\n",
       "    <tr>\n",
       "      <th>23</th>\n",
       "      <td>1427023.45</td>\n",
       "      <td>1.526495e+06</td>\n",
       "    </tr>\n",
       "    <tr>\n",
       "      <th>55</th>\n",
       "      <td>1847430.96</td>\n",
       "      <td>2.011202e+06</td>\n",
       "    </tr>\n",
       "    <tr>\n",
       "      <th>20</th>\n",
       "      <td>561145.14</td>\n",
       "      <td>6.835945e+05</td>\n",
       "    </tr>\n",
       "    <tr>\n",
       "      <th>127</th>\n",
       "      <td>614253.33</td>\n",
       "      <td>6.287135e+05</td>\n",
       "    </tr>\n",
       "    <tr>\n",
       "      <th>11</th>\n",
       "      <td>1029618.10</td>\n",
       "      <td>1.122666e+06</td>\n",
       "    </tr>\n",
       "    <tr>\n",
       "      <th>107</th>\n",
       "      <td>994801.40</td>\n",
       "      <td>9.403152e+05</td>\n",
       "    </tr>\n",
       "  </tbody>\n",
       "</table>\n",
       "</div>"
      ],
      "text/plain": [
       "     Actual value  Predicted value\n",
       "40      961186.23     9.377702e+05\n",
       "1      1807545.43     2.044776e+06\n",
       "100     364076.85     3.324182e+05\n",
       "10      895066.50     7.043508e+05\n",
       "114    1757242.51     1.525859e+06\n",
       "35     1266564.94     1.424911e+06\n",
       "21      290930.01     1.688570e+05\n",
       "59     2020550.99     2.295663e+06\n",
       "94     1953544.76     2.109974e+06\n",
       "23     1427023.45     1.526495e+06\n",
       "55     1847430.96     2.011202e+06\n",
       "20      561145.14     6.835945e+05\n",
       "127     614253.33     6.287135e+05\n",
       "11     1029618.10     1.122666e+06\n",
       "107     994801.40     9.403152e+05"
      ]
     },
     "execution_count": 50,
     "metadata": {},
     "output_type": "execute_result"
    }
   ],
   "source": [
    "result_df = pd.DataFrame({\"Actual value\" : y_test, \"Predicted value\" : y_test_pred})\n",
    "result_df"
   ]
  },
  {
   "cell_type": "code",
   "execution_count": 51,
   "metadata": {},
   "outputs": [
    {
     "data": {
      "image/png": "[encoded data removed]",
      "text/plain": [
       "<Figure size 1152x720 with 1 Axes>"
      ]
     },
     "metadata": {
      "needs_background": "light"
     },
     "output_type": "display_data"
    }
   ],
   "source": [
    "result_df.plot(kind = 'bar', figsize=(16, 10))\n",
    "plt.grid(which = \"major\", linestyle = \"--\", linewidth = \"0.2\", color = \"green\")\n",
    "plt.grid(which = \"minor\", linestyle = \"-\", linewidth = \"1\", color = \"black\")\n",
    "plt.show()"
   ]
  },
  {
   "cell_type": "markdown",
   "metadata": {},
   "source": [
    "##### Analyzing the values of the model's coefficients to know what features are important for the prediction"
   ]
  },
  {
   "cell_type": "code",
   "execution_count": 52,
   "metadata": {},
   "outputs": [
    {
     "data": {
      "text/plain": [
       "array([-6.33506779e+04, -7.40913313e+04,  1.27477392e+06, -7.91579035e+04,\n",
       "       -1.01342498e+05, -3.68410220e+03, -3.00115488e+04, -3.03285049e+04,\n",
       "        5.92470824e+05,  3.92901711e-09,  9.15689879e+05,  2.24327422e+05,\n",
       "        3.28471190e+05, -8.80646969e+04,  4.10442883e+05,  3.93875972e+05,\n",
       "        6.35054985e+05,  5.61541145e+04,  1.40726292e+05, -4.52822609e+05,\n",
       "        8.50578955e+05, -3.58779719e+05,  1.20716607e+04, -8.87517591e+04,\n",
       "       -1.76592933e+05, -1.81199225e+05, -4.35593457e+04])"
      ]
     },
     "execution_count": 52,
     "metadata": {},
     "output_type": "execute_result"
    }
   ],
   "source": [
    "regressor.coef_"
   ]
  },
  {
   "cell_type": "code",
   "execution_count": 53,
   "metadata": {},
   "outputs": [],
   "source": [
    "coefs = pd.DataFrame(index=X.columns, data = regressor.coef_.transpose(), columns=[\"Coefficients\"])"
   ]
  },
  {
   "cell_type": "code",
   "execution_count": 54,
   "metadata": {},
   "outputs": [],
   "source": [
    "coefs = coefs.apply(lambda x : abs(x)).sort_values(by=\"Coefficients\", ascending=False)"
   ]
  },
  {
   "cell_type": "code",
   "execution_count": 55,
   "metadata": {},
   "outputs": [
    {
     "data": {
      "text/html": [
       "<div>\n",
       "<style scoped>\n",
       "    .dataframe tbody tr th:only-of-type {\n",
       "        vertical-align: middle;\n",
       "    }\n",
       "\n",
       "    .dataframe tbody tr th {\n",
       "        vertical-align: top;\n",
       "    }\n",
       "\n",
       "    .dataframe thead th {\n",
       "        text-align: right;\n",
       "    }\n",
       "</style>\n",
       "<table border=\"1\" class=\"dataframe\">\n",
       "  <thead>\n",
       "    <tr style=\"text-align: right;\">\n",
       "      <th></th>\n",
       "      <th>Coefficients</th>\n",
       "    </tr>\n",
       "  </thead>\n",
       "  <tbody>\n",
       "    <tr>\n",
       "      <th>CPI</th>\n",
       "      <td>1.274774e+06</td>\n",
       "    </tr>\n",
       "    <tr>\n",
       "      <th>['store']_13.0</th>\n",
       "      <td>9.156899e+05</td>\n",
       "    </tr>\n",
       "    <tr>\n",
       "      <th>['store']_4.0</th>\n",
       "      <td>8.505790e+05</td>\n",
       "    </tr>\n",
       "    <tr>\n",
       "      <th>['store']_19.0</th>\n",
       "      <td>6.350550e+05</td>\n",
       "    </tr>\n",
       "    <tr>\n",
       "      <th>['store']_10.0</th>\n",
       "      <td>5.924708e+05</td>\n",
       "    </tr>\n",
       "    <tr>\n",
       "      <th>['store']_3.0</th>\n",
       "      <td>4.528226e+05</td>\n",
       "    </tr>\n",
       "    <tr>\n",
       "      <th>['store']_17.0</th>\n",
       "      <td>4.104429e+05</td>\n",
       "    </tr>\n",
       "    <tr>\n",
       "      <th>['store']_18.0</th>\n",
       "      <td>3.938760e+05</td>\n",
       "    </tr>\n",
       "    <tr>\n",
       "      <th>['store']_5.0</th>\n",
       "      <td>3.587797e+05</td>\n",
       "    </tr>\n",
       "    <tr>\n",
       "      <th>['store']_15.0</th>\n",
       "      <td>3.284712e+05</td>\n",
       "    </tr>\n",
       "    <tr>\n",
       "      <th>['store']_14.0</th>\n",
       "      <td>2.243274e+05</td>\n",
       "    </tr>\n",
       "    <tr>\n",
       "      <th>['store']_9.0</th>\n",
       "      <td>1.811992e+05</td>\n",
       "    </tr>\n",
       "    <tr>\n",
       "      <th>['store']_8.0</th>\n",
       "      <td>1.765929e+05</td>\n",
       "    </tr>\n",
       "    <tr>\n",
       "      <th>['store']_20.0</th>\n",
       "      <td>1.407263e+05</td>\n",
       "    </tr>\n",
       "    <tr>\n",
       "      <th>year</th>\n",
       "      <td>1.013425e+05</td>\n",
       "    </tr>\n",
       "    <tr>\n",
       "      <th>['store']_7.0</th>\n",
       "      <td>8.875176e+04</td>\n",
       "    </tr>\n",
       "    <tr>\n",
       "      <th>['store']_16.0</th>\n",
       "      <td>8.806470e+04</td>\n",
       "    </tr>\n",
       "    <tr>\n",
       "      <th>Unemployment</th>\n",
       "      <td>7.915790e+04</td>\n",
       "    </tr>\n",
       "    <tr>\n",
       "      <th>Fuel_Price</th>\n",
       "      <td>7.409133e+04</td>\n",
       "    </tr>\n",
       "    <tr>\n",
       "      <th>Temperature</th>\n",
       "      <td>6.335068e+04</td>\n",
       "    </tr>\n",
       "    <tr>\n",
       "      <th>['store']_2.0</th>\n",
       "      <td>5.615411e+04</td>\n",
       "    </tr>\n",
       "    <tr>\n",
       "      <th>['holi']_1.0</th>\n",
       "      <td>4.355935e+04</td>\n",
       "    </tr>\n",
       "    <tr>\n",
       "      <th>day_week</th>\n",
       "      <td>3.032850e+04</td>\n",
       "    </tr>\n",
       "    <tr>\n",
       "      <th>day</th>\n",
       "      <td>3.001155e+04</td>\n",
       "    </tr>\n",
       "    <tr>\n",
       "      <th>['store']_6.0</th>\n",
       "      <td>1.207166e+04</td>\n",
       "    </tr>\n",
       "    <tr>\n",
       "      <th>month</th>\n",
       "      <td>3.684102e+03</td>\n",
       "    </tr>\n",
       "    <tr>\n",
       "      <th>['store']_11.0</th>\n",
       "      <td>3.929017e-09</td>\n",
       "    </tr>\n",
       "  </tbody>\n",
       "</table>\n",
       "</div>"
      ],
      "text/plain": [
       "                Coefficients\n",
       "CPI             1.274774e+06\n",
       "['store']_13.0  9.156899e+05\n",
       "['store']_4.0   8.505790e+05\n",
       "['store']_19.0  6.350550e+05\n",
       "['store']_10.0  5.924708e+05\n",
       "['store']_3.0   4.528226e+05\n",
       "['store']_17.0  4.104429e+05\n",
       "['store']_18.0  3.938760e+05\n",
       "['store']_5.0   3.587797e+05\n",
       "['store']_15.0  3.284712e+05\n",
       "['store']_14.0  2.243274e+05\n",
       "['store']_9.0   1.811992e+05\n",
       "['store']_8.0   1.765929e+05\n",
       "['store']_20.0  1.407263e+05\n",
       "year            1.013425e+05\n",
       "['store']_7.0   8.875176e+04\n",
       "['store']_16.0  8.806470e+04\n",
       "Unemployment    7.915790e+04\n",
       "Fuel_Price      7.409133e+04\n",
       "Temperature     6.335068e+04\n",
       "['store']_2.0   5.615411e+04\n",
       "['holi']_1.0    4.355935e+04\n",
       "day_week        3.032850e+04\n",
       "day             3.001155e+04\n",
       "['store']_6.0   1.207166e+04\n",
       "month           3.684102e+03\n",
       "['store']_11.0  3.929017e-09"
      ]
     },
     "execution_count": 55,
     "metadata": {},
     "output_type": "execute_result"
    }
   ],
   "source": [
    "coefs"
   ]
  },
  {
   "cell_type": "markdown",
   "metadata": {},
   "source": [
    "#### Plotting feature importance"
   ]
  },
  {
   "cell_type": "code",
   "execution_count": 56,
   "metadata": {},
   "outputs": [
    {
     "data": {
      "image/png": "[encoded data removed]",
      "text/plain": [
       "<Figure size 1152x720 with 1 Axes>"
      ]
     },
     "metadata": {
      "needs_background": "light"
     },
     "output_type": "display_data"
    }
   ],
   "source": [
    "coefs.plot(kind = 'bar', color =\"red\", figsize=(16, 10))\n",
    "plt.grid(which = \"major\", linestyle = \"--\", linewidth = \"0.2\", color = \"green\")\n",
    "plt.grid(which = \"minor\", linestyle = \"-\", linewidth = \"1\", color = \"black\")\n",
    "plt.show()"
   ]
  },
  {
   "cell_type": "markdown",
   "metadata": {},
   "source": [
    "#####The above graph shows that Consumer Price Index (CPI), used to measure inflation, and the \"Store\" features - most probably geographic location - strongly influence weekly sales predictions. Astonishingly, the data tell us that unemployment is not a factor which highly impacts weekly sales predictions."
   ]
  },
  {
   "cell_type": "code",
   "execution_count": null,
   "metadata": {},
   "outputs": [],
   "source": []
  },
  {
   "cell_type": "markdown",
   "metadata": {},
   "source": [
    "## Experiment 2 : Ridge-regularized model without hyper parameter optimization"
   ]
  },
  {
   "cell_type": "markdown",
   "metadata": {},
   "source": [
    "### Train pipeline for Ridge-regularized model without hyper parameter optimization"
   ]
  },
  {
   "cell_type": "markdown",
   "metadata": {},
   "source": [
    "##### Separate target variable y from features X"
   ]
  },
  {
   "cell_type": "code",
   "execution_count": 57,
   "metadata": {},
   "outputs": [
    {
     "name": "stdout",
     "output_type": "stream",
     "text": [
      "Separating labels from features...\n",
      "...Done.\n",
      "\n",
      "y : \n",
      "1      1807545.43\n",
      "4      1644470.66\n",
      "6       695396.19\n",
      "7      2203523.20\n",
      "10      895066.50\n",
      "          ...    \n",
      "139     532739.77\n",
      "143     396968.80\n",
      "144     424513.08\n",
      "145    2248645.59\n",
      "149    1255087.26\n",
      "Name: Weekly_Sales, Length: 71, dtype: float64\n",
      "\n",
      "X :\n",
      "    Store  Holiday_Flag  Temperature  Fuel_Price         CPI  Unemployment  \\\n",
      "1    13.0           0.0        42.38       3.435  128.616064         7.470   \n",
      "4     6.0           0.0        78.89       2.759  212.412888         7.092   \n",
      "6    15.0           0.0        69.80       4.069  134.855161         7.658   \n",
      "7    20.0           0.0        39.93       3.617  213.023623         6.961   \n",
      "10    8.0           0.0        82.92       3.554  219.070197         6.425   \n",
      "..    ...           ...          ...         ...         ...           ...   \n",
      "139   7.0           0.0        50.60       3.804  197.588605         8.090   \n",
      "143   3.0           0.0        78.53       2.705  214.495838         7.343   \n",
      "144   3.0           0.0        73.44       3.594  226.968844         6.034   \n",
      "145  14.0           0.0        72.62       2.780  182.442420         8.899   \n",
      "149  19.0           0.0        55.20       4.170  137.923067         8.150   \n",
      "\n",
      "       year  month   day  day_week  \n",
      "1    2011.0    3.0  25.0       4.0  \n",
      "4    2010.0    5.0  28.0       4.0  \n",
      "6    2011.0    3.0   6.0       6.0  \n",
      "7    2012.0    3.0   2.0       4.0  \n",
      "10   2011.0    8.0  19.0       4.0  \n",
      "..      ...    ...   ...       ...  \n",
      "139  2012.0    5.0  25.0       4.0  \n",
      "143  2010.0    4.0   6.0       1.0  \n",
      "144  2012.0   10.0  19.0       4.0  \n",
      "145  2010.0    6.0  18.0       4.0  \n",
      "149  2012.0    4.0  20.0       4.0  \n",
      "\n",
      "[71 rows x 10 columns]\n"
     ]
    }
   ],
   "source": [
    "print(\"Separating labels from features...\")\n",
    "features_list = [\"Store\", \"Holiday_Flag\",\"Temperature\", \"Fuel_Price\", \"CPI\", \"Unemployment\", \"month\", \"year\",\"day\", \"day_week\"]\n",
    "target_variable = \"Weekly_Sales\"\n",
    "\n",
    "X = df.drop(\"Weekly_Sales\", axis=1)\n",
    "y = df[\"Weekly_Sales\"]\n",
    "\n",
    "print(\"...Done.\")\n",
    "print()\n",
    "\n",
    "print('y : ')\n",
    "print(y)\n",
    "print()\n",
    "print('X :')\n",
    "print(X)"
   ]
  },
  {
   "cell_type": "code",
   "execution_count": 58,
   "metadata": {},
   "outputs": [],
   "source": [
    "dummies_store = pd.get_dummies(X[\"Store\"], prefix=[\"store\"], drop_first=True)"
   ]
  },
  {
   "cell_type": "code",
   "execution_count": 59,
   "metadata": {},
   "outputs": [],
   "source": [
    "dummies_holiday = pd.get_dummies(X[\"Holiday_Flag\"], prefix=[\"holi\"], drop_first=True)"
   ]
  },
  {
   "cell_type": "code",
   "execution_count": 60,
   "metadata": {},
   "outputs": [],
   "source": [
    "X = X.drop(\"Store\", axis=1)"
   ]
  },
  {
   "cell_type": "code",
   "execution_count": 61,
   "metadata": {},
   "outputs": [],
   "source": [
    "X = X.drop(\"Holiday_Flag\", axis=1)"
   ]
  },
  {
   "cell_type": "code",
   "execution_count": 62,
   "metadata": {},
   "outputs": [],
   "source": [
    "X = pd.concat([X, dummies_holiday], axis=1)"
   ]
  },
  {
   "cell_type": "code",
   "execution_count": 63,
   "metadata": {},
   "outputs": [],
   "source": [
    "X = pd.concat([X, dummies_store], axis=1)"
   ]
  },
  {
   "cell_type": "code",
   "execution_count": 64,
   "metadata": {},
   "outputs": [
    {
     "data": {
      "text/html": [
       "<div>\n",
       "<style scoped>\n",
       "    .dataframe tbody tr th:only-of-type {\n",
       "        vertical-align: middle;\n",
       "    }\n",
       "\n",
       "    .dataframe tbody tr th {\n",
       "        vertical-align: top;\n",
       "    }\n",
       "\n",
       "    .dataframe thead th {\n",
       "        text-align: right;\n",
       "    }\n",
       "</style>\n",
       "<table border=\"1\" class=\"dataframe\">\n",
       "  <thead>\n",
       "    <tr style=\"text-align: right;\">\n",
       "      <th></th>\n",
       "      <th>Temperature</th>\n",
       "      <th>Fuel_Price</th>\n",
       "      <th>CPI</th>\n",
       "      <th>Unemployment</th>\n",
       "      <th>year</th>\n",
       "      <th>month</th>\n",
       "      <th>day</th>\n",
       "      <th>day_week</th>\n",
       "      <th>['holi']_1.0</th>\n",
       "      <th>['store']_10.0</th>\n",
       "      <th>...</th>\n",
       "      <th>['store']_19.0</th>\n",
       "      <th>['store']_2.0</th>\n",
       "      <th>['store']_20.0</th>\n",
       "      <th>['store']_3.0</th>\n",
       "      <th>['store']_4.0</th>\n",
       "      <th>['store']_5.0</th>\n",
       "      <th>['store']_6.0</th>\n",
       "      <th>['store']_7.0</th>\n",
       "      <th>['store']_8.0</th>\n",
       "      <th>['store']_9.0</th>\n",
       "    </tr>\n",
       "  </thead>\n",
       "  <tbody>\n",
       "    <tr>\n",
       "      <th>1</th>\n",
       "      <td>42.38</td>\n",
       "      <td>3.435</td>\n",
       "      <td>128.616064</td>\n",
       "      <td>7.470</td>\n",
       "      <td>2011.0</td>\n",
       "      <td>3.0</td>\n",
       "      <td>25.0</td>\n",
       "      <td>4.0</td>\n",
       "      <td>0</td>\n",
       "      <td>0</td>\n",
       "      <td>...</td>\n",
       "      <td>0</td>\n",
       "      <td>0</td>\n",
       "      <td>0</td>\n",
       "      <td>0</td>\n",
       "      <td>0</td>\n",
       "      <td>0</td>\n",
       "      <td>0</td>\n",
       "      <td>0</td>\n",
       "      <td>0</td>\n",
       "      <td>0</td>\n",
       "    </tr>\n",
       "    <tr>\n",
       "      <th>4</th>\n",
       "      <td>78.89</td>\n",
       "      <td>2.759</td>\n",
       "      <td>212.412888</td>\n",
       "      <td>7.092</td>\n",
       "      <td>2010.0</td>\n",
       "      <td>5.0</td>\n",
       "      <td>28.0</td>\n",
       "      <td>4.0</td>\n",
       "      <td>0</td>\n",
       "      <td>0</td>\n",
       "      <td>...</td>\n",
       "      <td>0</td>\n",
       "      <td>0</td>\n",
       "      <td>0</td>\n",
       "      <td>0</td>\n",
       "      <td>0</td>\n",
       "      <td>0</td>\n",
       "      <td>1</td>\n",
       "      <td>0</td>\n",
       "      <td>0</td>\n",
       "      <td>0</td>\n",
       "    </tr>\n",
       "    <tr>\n",
       "      <th>6</th>\n",
       "      <td>69.80</td>\n",
       "      <td>4.069</td>\n",
       "      <td>134.855161</td>\n",
       "      <td>7.658</td>\n",
       "      <td>2011.0</td>\n",
       "      <td>3.0</td>\n",
       "      <td>6.0</td>\n",
       "      <td>6.0</td>\n",
       "      <td>0</td>\n",
       "      <td>0</td>\n",
       "      <td>...</td>\n",
       "      <td>0</td>\n",
       "      <td>0</td>\n",
       "      <td>0</td>\n",
       "      <td>0</td>\n",
       "      <td>0</td>\n",
       "      <td>0</td>\n",
       "      <td>0</td>\n",
       "      <td>0</td>\n",
       "      <td>0</td>\n",
       "      <td>0</td>\n",
       "    </tr>\n",
       "    <tr>\n",
       "      <th>7</th>\n",
       "      <td>39.93</td>\n",
       "      <td>3.617</td>\n",
       "      <td>213.023623</td>\n",
       "      <td>6.961</td>\n",
       "      <td>2012.0</td>\n",
       "      <td>3.0</td>\n",
       "      <td>2.0</td>\n",
       "      <td>4.0</td>\n",
       "      <td>0</td>\n",
       "      <td>0</td>\n",
       "      <td>...</td>\n",
       "      <td>0</td>\n",
       "      <td>0</td>\n",
       "      <td>1</td>\n",
       "      <td>0</td>\n",
       "      <td>0</td>\n",
       "      <td>0</td>\n",
       "      <td>0</td>\n",
       "      <td>0</td>\n",
       "      <td>0</td>\n",
       "      <td>0</td>\n",
       "    </tr>\n",
       "    <tr>\n",
       "      <th>10</th>\n",
       "      <td>82.92</td>\n",
       "      <td>3.554</td>\n",
       "      <td>219.070197</td>\n",
       "      <td>6.425</td>\n",
       "      <td>2011.0</td>\n",
       "      <td>8.0</td>\n",
       "      <td>19.0</td>\n",
       "      <td>4.0</td>\n",
       "      <td>0</td>\n",
       "      <td>0</td>\n",
       "      <td>...</td>\n",
       "      <td>0</td>\n",
       "      <td>0</td>\n",
       "      <td>0</td>\n",
       "      <td>0</td>\n",
       "      <td>0</td>\n",
       "      <td>0</td>\n",
       "      <td>0</td>\n",
       "      <td>0</td>\n",
       "      <td>1</td>\n",
       "      <td>0</td>\n",
       "    </tr>\n",
       "  </tbody>\n",
       "</table>\n",
       "<p>5 rows × 27 columns</p>\n",
       "</div>"
      ],
      "text/plain": [
       "    Temperature  Fuel_Price         CPI  Unemployment    year  month   day  \\\n",
       "1         42.38       3.435  128.616064         7.470  2011.0    3.0  25.0   \n",
       "4         78.89       2.759  212.412888         7.092  2010.0    5.0  28.0   \n",
       "6         69.80       4.069  134.855161         7.658  2011.0    3.0   6.0   \n",
       "7         39.93       3.617  213.023623         6.961  2012.0    3.0   2.0   \n",
       "10        82.92       3.554  219.070197         6.425  2011.0    8.0  19.0   \n",
       "\n",
       "    day_week  ['holi']_1.0  ['store']_10.0  ...  ['store']_19.0  \\\n",
       "1        4.0             0               0  ...               0   \n",
       "4        4.0             0               0  ...               0   \n",
       "6        6.0             0               0  ...               0   \n",
       "7        4.0             0               0  ...               0   \n",
       "10       4.0             0               0  ...               0   \n",
       "\n",
       "    ['store']_2.0  ['store']_20.0  ['store']_3.0  ['store']_4.0  \\\n",
       "1               0               0              0              0   \n",
       "4               0               0              0              0   \n",
       "6               0               0              0              0   \n",
       "7               0               1              0              0   \n",
       "10              0               0              0              0   \n",
       "\n",
       "    ['store']_5.0  ['store']_6.0  ['store']_7.0  ['store']_8.0  ['store']_9.0  \n",
       "1               0              0              0              0              0  \n",
       "4               0              1              0              0              0  \n",
       "6               0              0              0              0              0  \n",
       "7               0              0              0              0              0  \n",
       "10              0              0              0              1              0  \n",
       "\n",
       "[5 rows x 27 columns]"
      ]
     },
     "execution_count": 64,
     "metadata": {},
     "output_type": "execute_result"
    }
   ],
   "source": [
    "X.head()"
   ]
  },
  {
   "cell_type": "code",
   "execution_count": 65,
   "metadata": {},
   "outputs": [
    {
     "data": {
      "text/plain": [
       "(71, 27)"
      ]
     },
     "execution_count": 65,
     "metadata": {},
     "output_type": "execute_result"
    }
   ],
   "source": [
    "X.shape"
   ]
  },
  {
   "cell_type": "markdown",
   "metadata": {},
   "source": [
    "##### Divide dataset into train & test sets"
   ]
  },
  {
   "cell_type": "code",
   "execution_count": 66,
   "metadata": {},
   "outputs": [
    {
     "name": "stdout",
     "output_type": "stream",
     "text": [
      "Dividing into train and test sets...\n",
      "...Done.\n",
      "\n"
     ]
    }
   ],
   "source": [
    "print(\"Dividing into train and test sets...\")\n",
    "X_train, X_test, y_train, y_test = train_test_split(X, y, test_size=0.2, random_state=42)\n",
    "print(\"...Done.\")\n",
    "print()"
   ]
  },
  {
   "cell_type": "markdown",
   "metadata": {},
   "source": [
    "##### Standardization of the train dataframe before training the model"
   ]
  },
  {
   "cell_type": "code",
   "execution_count": 67,
   "metadata": {},
   "outputs": [
    {
     "name": "stdout",
     "output_type": "stream",
     "text": [
      "Standardizing numerical features...\n",
      "\n",
      "     Temperature  Fuel_Price         CPI  Unemployment    year  month   day  \\\n",
      "54         86.87       3.666  130.719633         7.170  2012.0    6.0   7.0   \n",
      "122        57.84       3.596  198.095048         7.872  2012.0    7.0   9.0   \n",
      "63         69.17       3.594  224.019287         5.422  2012.0   10.0  19.0   \n",
      "121        89.42       3.682  216.046436         6.529  2011.0    7.0  29.0   \n",
      "78         62.25       3.308  218.220509         7.866  2011.0   11.0  18.0   \n",
      "\n",
      "     day_week  ['holi']_1.0  ['store']_10.0  ...  ['store']_19.0  \\\n",
      "54        3.0             0               1  ...               0   \n",
      "122       0.0             1               0  ...               0   \n",
      "63        4.0             0               0  ...               0   \n",
      "121       4.0             0               0  ...               0   \n",
      "78        4.0             0               0  ...               0   \n",
      "\n",
      "     ['store']_2.0  ['store']_20.0  ['store']_3.0  ['store']_4.0  \\\n",
      "54               0               0              0              0   \n",
      "122              0               0              0              0   \n",
      "63               0               0              0              0   \n",
      "121              0               0              0              0   \n",
      "78               0               0              0              0   \n",
      "\n",
      "     ['store']_5.0  ['store']_6.0  ['store']_7.0  ['store']_8.0  ['store']_9.0  \n",
      "54               0              0              0              0              0  \n",
      "122              0              0              1              0              0  \n",
      "63               1              0              0              0              0  \n",
      "121              1              0              0              0              0  \n",
      "78               0              0              0              0              0  \n",
      "\n",
      "[5 rows x 27 columns]\n",
      "...Done\n",
      "[[ 1.5802326   0.70358661 -1.2282192  -0.04204051  1.15470054 -0.2035035\n",
      "  -0.95542529 -0.38445547 -0.2773501   5.19615242  0.         -0.31311215\n",
      "  -0.13483997 -0.19245009 -0.19245009 -0.23791548 -0.19245009 -0.2773501\n",
      "  -0.23791548 -0.23791548 -0.37796447 -0.2773501  -0.2773501  -0.19245009\n",
      "  -0.31311215 -0.19245009 -0.13483997]\n",
      " [-0.16910349  0.55862395  0.46060066  0.71642506  1.15470054  0.08870665\n",
      "  -0.72127292 -2.40284666  3.60555128 -0.19245009  0.         -0.31311215\n",
      "  -0.13483997 -0.19245009 -0.19245009 -0.23791548 -0.19245009 -0.2773501\n",
      "  -0.23791548 -0.23791548 -0.37796447 -0.2773501  -0.2773501  -0.19245009\n",
      "   3.19374388 -0.19245009 -0.13483997]\n",
      " [ 0.51363774  0.55448216  1.11041291 -1.93064139  1.15470054  0.96533711\n",
      "   0.44948892  0.2883416  -0.2773501  -0.19245009  0.         -0.31311215\n",
      "  -0.13483997 -0.19245009 -0.19245009 -0.23791548 -0.19245009 -0.2773501\n",
      "  -0.23791548 -0.23791548 -0.37796447 -0.2773501   3.60555128 -0.19245009\n",
      "  -0.31311215 -0.19245009 -0.13483997]\n",
      " [ 1.73389458  0.73672093  0.91056688 -0.73459953  0.          0.08870665\n",
      "   1.62025076  0.2883416  -0.2773501  -0.19245009  0.         -0.31311215\n",
      "  -0.13483997 -0.19245009 -0.19245009 -0.23791548 -0.19245009 -0.2773501\n",
      "  -0.23791548 -0.23791548 -0.37796447 -0.2773501   3.60555128 -0.19245009\n",
      "  -0.31311215 -0.19245009 -0.13483997]\n",
      " [ 0.09664133 -0.03779384  0.96506178  0.70994245  0.          1.25754726\n",
      "   0.33241274  0.2883416  -0.2773501  -0.19245009  0.         -0.31311215\n",
      "  -0.13483997 -0.19245009 -0.19245009 -0.23791548 -0.19245009 -0.2773501\n",
      "  -0.23791548 -0.23791548 -0.37796447 -0.2773501  -0.2773501  -0.19245009\n",
      "  -0.31311215 -0.19245009 -0.13483997]]\n"
     ]
    }
   ],
   "source": [
    "# Standardizing numerical features\n",
    "print(\"Standardizing numerical features...\")\n",
    "print()\n",
    "print(X_train.iloc[0:5,:])\n",
    "\n",
    "# Standardization\n",
    "scaler = StandardScaler()\n",
    "\n",
    "X_train_transformed = scaler.fit_transform(X_train)\n",
    "print(\"...Done\")\n",
    "print(X_train_transformed[0:5,:])"
   ]
  },
  {
   "cell_type": "markdown",
   "metadata": {},
   "source": [
    "##### Training a Ridge-regularized model without hyper parameter optimization"
   ]
  },
  {
   "cell_type": "code",
   "execution_count": 68,
   "metadata": {},
   "outputs": [
    {
     "name": "stdout",
     "output_type": "stream",
     "text": [
      "Train model...\n",
      "...Done.\n"
     ]
    }
   ],
   "source": [
    "print(\"Train model...\")\n",
    "ridge_regressor = Ridge()\n",
    "ridge_regressor.fit(X_train_transformed, y_train)\n",
    "print(\"...Done.\")"
   ]
  },
  {
   "cell_type": "markdown",
   "metadata": {},
   "source": [
    "#### Prediction on train set"
   ]
  },
  {
   "cell_type": "code",
   "execution_count": 69,
   "metadata": {},
   "outputs": [
    {
     "name": "stdout",
     "output_type": "stream",
     "text": [
      "Predictions on training set...\n",
      "...Done.\n",
      "[1877150.25950913  454475.0514777   368844.5853066   160897.15982716\n",
      " 1519212.20636216  846217.899269   1904014.90837732 1913384.7247385\n",
      " 2077863.50783365 1472048.31172292 1899138.48673383 2371567.30477538\n",
      "  458282.66973811 1505653.61297959  304197.0309405   896361.37148978\n",
      " 1951700.89372768  318062.90975513 2212114.07202917 1411252.10197463\n",
      " 1331780.20584512 2101439.39980825  672505.71218376  565846.90328433\n",
      "  792941.07650367  512362.3557382   515880.6445004  2425834.83669026\n",
      " 1588504.64633455 2119151.31367348 2235123.7892449   474034.61881592\n",
      "  481781.79466379  691253.19279532 1444220.87911953 2019757.51908377\n",
      " 1765990.08412672  420726.73592461 2141063.07474802 1129707.65781351\n",
      "  853911.39665601  466439.62866488 2036280.60514952 1122773.86104483\n",
      " 1844502.31562061  539355.6807033   488075.07443252 1688504.41076232\n",
      " 1389650.44120165  401495.94801344  599818.16788501 1586838.92701449\n",
      " 2131940.73293329  421084.69091989  905064.81807554  384510.16145665]\n",
      "\n"
     ]
    }
   ],
   "source": [
    "print(\"Predictions on training set...\")\n",
    "y_train_pred = ridge_regressor.predict(X_train_transformed)\n",
    "print(\"...Done.\")\n",
    "print(y_train_pred)\n",
    "print()"
   ]
  },
  {
   "cell_type": "markdown",
   "metadata": {},
   "source": [
    "### Test pipeline of the Ridge-regularized model without hyper parameter optimization"
   ]
  },
  {
   "cell_type": "code",
   "execution_count": 70,
   "metadata": {},
   "outputs": [
    {
     "data": {
      "text/plain": [
       "(15, 27)"
      ]
     },
     "execution_count": 70,
     "metadata": {},
     "output_type": "execute_result"
    }
   ],
   "source": [
    "X_test.shape"
   ]
  },
  {
   "cell_type": "markdown",
   "metadata": {},
   "source": [
    "##### Standardization of the test dataframe before prediction"
   ]
  },
  {
   "cell_type": "code",
   "execution_count": 71,
   "metadata": {},
   "outputs": [
    {
     "name": "stdout",
     "output_type": "stream",
     "text": [
      "Standardizing numerical features...\n",
      "\n",
      "     Temperature  Fuel_Price         CPI  Unemployment    year  month   day  \\\n",
      "40         50.43       4.023  137.978133         8.304  2012.0    4.0  27.0   \n",
      "1          42.38       3.435  128.616064         7.470  2011.0    3.0  25.0   \n",
      "100        83.52       2.637  214.785826         7.343  2010.0    6.0  18.0   \n",
      "10         82.92       3.554  219.070197         6.425  2011.0    8.0  19.0   \n",
      "114        69.90       2.735  215.061402         7.564  2010.0   11.0  26.0   \n",
      "\n",
      "     day_week  ['holi']_1.0  ['store']_10.0  ...  ['store']_19.0  \\\n",
      "40        4.0             0               0  ...               0   \n",
      "1         4.0             0               0  ...               0   \n",
      "100       4.0             0               0  ...               0   \n",
      "10        4.0             0               0  ...               0   \n",
      "114       4.0             1               0  ...               0   \n",
      "\n",
      "     ['store']_2.0  ['store']_20.0  ['store']_3.0  ['store']_4.0  \\\n",
      "40               0               0              0              0   \n",
      "1                0               0              0              0   \n",
      "100              0               0              1              0   \n",
      "10               0               0              0              0   \n",
      "114              0               0              0              0   \n",
      "\n",
      "     ['store']_5.0  ['store']_6.0  ['store']_7.0  ['store']_8.0  ['store']_9.0  \n",
      "40               0              0              0              0              0  \n",
      "1                0              0              0              0              0  \n",
      "100              0              0              0              0              0  \n",
      "10               0              0              0              1              0  \n",
      "114              0              0              0              0              0  \n",
      "\n",
      "[5 rows x 27 columns]\n",
      "...Done\n",
      "[[-0.61562711  1.44289616 -1.04627897  1.1831731   1.15470054 -0.7879238\n",
      "   1.38609839  0.2883416  -0.2773501  -0.19245009  0.         -0.31311215\n",
      "  -0.13483997 -0.19245009 -0.19245009 -0.23791548  5.19615242 -0.2773501\n",
      "  -0.23791548 -0.23791548 -0.37796447 -0.2773501  -0.2773501  -0.19245009\n",
      "  -0.31311215 -0.19245009 -0.13483997]\n",
      " [-1.10071686  0.22520984 -1.28094688  0.28209008  0.         -1.08013395\n",
      "   1.15194603  0.2883416  -0.2773501  -0.19245009  0.          3.19374388\n",
      "  -0.13483997 -0.19245009 -0.19245009 -0.23791548 -0.19245009 -0.2773501\n",
      "  -0.23791548 -0.23791548 -0.37796447 -0.2773501  -0.2773501  -0.19245009\n",
      "  -0.31311215 -0.19245009 -0.13483997]\n",
      " [ 1.37836296 -1.42736445  0.87896865  0.1448748  -1.15470054 -0.2035035\n",
      "   0.33241274  0.2883416  -0.2773501  -0.19245009  0.         -0.31311215\n",
      "  -0.13483997 -0.19245009 -0.19245009 -0.23791548 -0.19245009 -0.2773501\n",
      "  -0.23791548 -0.23791548  2.64575131 -0.2773501  -0.2773501  -0.19245009\n",
      "  -0.31311215 -0.19245009 -0.13483997]\n",
      " [ 1.3422072   0.47164636  0.98635991 -0.8469648   0.          0.3809168\n",
      "   0.44948892  0.2883416  -0.2773501  -0.19245009  0.         -0.31311215\n",
      "  -0.13483997 -0.19245009 -0.19245009 -0.23791548 -0.19245009 -0.2773501\n",
      "  -0.23791548 -0.23791548 -0.37796447 -0.2773501  -0.2773501  -0.19245009\n",
      "  -0.31311215  5.19615242 -0.13483997]\n",
      " [ 0.55762725 -1.22441673  0.8858762   0.38365099 -1.15470054  1.25754726\n",
      "   1.26902221  0.2883416   3.60555128 -0.19245009  1.         -0.31311215\n",
      "  -0.13483997 -0.19245009 -0.19245009 -0.23791548 -0.19245009 -0.2773501\n",
      "  -0.23791548 -0.23791548 -0.37796447 -0.2773501  -0.2773501  -0.19245009\n",
      "  -0.31311215 -0.19245009 -0.13483997]]\n"
     ]
    }
   ],
   "source": [
    "# Standardizing numerical features\n",
    "print(\"Standardizing numerical features...\")\n",
    "print()\n",
    "print(X_test.iloc[0:5,:])\n",
    "\n",
    "\n",
    "X_test_transformed = scaler.transform(X_test)\n",
    "print(\"...Done\")\n",
    "print(X_test_transformed[0:5,:])"
   ]
  },
  {
   "cell_type": "markdown",
   "metadata": {},
   "source": [
    "### Predictions on test set"
   ]
  },
  {
   "cell_type": "code",
   "execution_count": 72,
   "metadata": {},
   "outputs": [
    {
     "name": "stdout",
     "output_type": "stream",
     "text": [
      "Predictions on test set...\n",
      "...Done.\n",
      "[1007302.88246451 2044585.48328769  407137.02426595  732396.53366774\n",
      " 1387931.35268151 1416045.96864397  206621.50862571 2275137.53071084\n",
      " 2114084.89018917 1474839.07858195 1996661.28449654  660908.44233573\n",
      "  635183.52691738 1143901.763954    952359.09266856]\n",
      "\n"
     ]
    }
   ],
   "source": [
    "print(\"Predictions on test set...\")\n",
    "y_test_pred = ridge_regressor.predict(X_test_transformed)\n",
    "print(\"...Done.\")\n",
    "print(y_test_pred)\n",
    "print()"
   ]
  },
  {
   "cell_type": "markdown",
   "metadata": {},
   "source": [
    "### R2 scores of with a Ridge-regularized model without hyper parameter optimization"
   ]
  },
  {
   "cell_type": "code",
   "execution_count": 73,
   "metadata": {},
   "outputs": [
    {
     "name": "stdout",
     "output_type": "stream",
     "text": [
      "R2 score on training set :  0.982265802290854\n",
      "R2 score on test set :  0.9196675579950595\n"
     ]
    }
   ],
   "source": [
    "print(\"R2 score on training set : \", r2_score(y_train, y_train_pred))\n",
    "print(\"R2 score on test set : \", r2_score(y_test, y_test_pred))"
   ]
  },
  {
   "cell_type": "markdown",
   "metadata": {},
   "source": [
    "#####The Ridge-regularized model without hyper parameter optimization does not outperform the baseline model : it gives a score of 98.2 % against 98.6 % for the training set and 91.9 % against 92.8 % for the test set when compared with the baseline model. The use of a much larger training set can prove to be a valuable asset to increase the performance of the model. Furthermore, the Ridge regularization has been used without any hyperparameter optimization. According to the \"No free lunch\" theorem developed by David Wolpert in a famous paper in 1996, there is no model that is a priori guaranteed to work better. The only way to know for sure which model is best is to evaluate them all. So after looking at what is happening under the hood with some vizualizations, a Ridge model with hyperparamater optimization and Grid Search cross-validation will be built and tested"
   ]
  },
  {
   "cell_type": "code",
   "execution_count": 74,
   "metadata": {},
   "outputs": [
    {
     "data": {
      "text/html": [
       "<div>\n",
       "<style scoped>\n",
       "    .dataframe tbody tr th:only-of-type {\n",
       "        vertical-align: middle;\n",
       "    }\n",
       "\n",
       "    .dataframe tbody tr th {\n",
       "        vertical-align: top;\n",
       "    }\n",
       "\n",
       "    .dataframe thead th {\n",
       "        text-align: right;\n",
       "    }\n",
       "</style>\n",
       "<table border=\"1\" class=\"dataframe\">\n",
       "  <thead>\n",
       "    <tr style=\"text-align: right;\">\n",
       "      <th></th>\n",
       "      <th>Actual value</th>\n",
       "      <th>Predicted value</th>\n",
       "    </tr>\n",
       "  </thead>\n",
       "  <tbody>\n",
       "    <tr>\n",
       "      <th>40</th>\n",
       "      <td>961186.23</td>\n",
       "      <td>1.007303e+06</td>\n",
       "    </tr>\n",
       "    <tr>\n",
       "      <th>1</th>\n",
       "      <td>1807545.43</td>\n",
       "      <td>2.044585e+06</td>\n",
       "    </tr>\n",
       "    <tr>\n",
       "      <th>100</th>\n",
       "      <td>364076.85</td>\n",
       "      <td>4.071370e+05</td>\n",
       "    </tr>\n",
       "    <tr>\n",
       "      <th>10</th>\n",
       "      <td>895066.50</td>\n",
       "      <td>7.323965e+05</td>\n",
       "    </tr>\n",
       "    <tr>\n",
       "      <th>114</th>\n",
       "      <td>1757242.51</td>\n",
       "      <td>1.387931e+06</td>\n",
       "    </tr>\n",
       "    <tr>\n",
       "      <th>35</th>\n",
       "      <td>1266564.94</td>\n",
       "      <td>1.416046e+06</td>\n",
       "    </tr>\n",
       "    <tr>\n",
       "      <th>21</th>\n",
       "      <td>290930.01</td>\n",
       "      <td>2.066215e+05</td>\n",
       "    </tr>\n",
       "    <tr>\n",
       "      <th>59</th>\n",
       "      <td>2020550.99</td>\n",
       "      <td>2.275138e+06</td>\n",
       "    </tr>\n",
       "    <tr>\n",
       "      <th>94</th>\n",
       "      <td>1953544.76</td>\n",
       "      <td>2.114085e+06</td>\n",
       "    </tr>\n",
       "    <tr>\n",
       "      <th>23</th>\n",
       "      <td>1427023.45</td>\n",
       "      <td>1.474839e+06</td>\n",
       "    </tr>\n",
       "    <tr>\n",
       "      <th>55</th>\n",
       "      <td>1847430.96</td>\n",
       "      <td>1.996661e+06</td>\n",
       "    </tr>\n",
       "    <tr>\n",
       "      <th>20</th>\n",
       "      <td>561145.14</td>\n",
       "      <td>6.609084e+05</td>\n",
       "    </tr>\n",
       "    <tr>\n",
       "      <th>127</th>\n",
       "      <td>614253.33</td>\n",
       "      <td>6.351835e+05</td>\n",
       "    </tr>\n",
       "    <tr>\n",
       "      <th>11</th>\n",
       "      <td>1029618.10</td>\n",
       "      <td>1.143902e+06</td>\n",
       "    </tr>\n",
       "    <tr>\n",
       "      <th>107</th>\n",
       "      <td>994801.40</td>\n",
       "      <td>9.523591e+05</td>\n",
       "    </tr>\n",
       "  </tbody>\n",
       "</table>\n",
       "</div>"
      ],
      "text/plain": [
       "     Actual value  Predicted value\n",
       "40      961186.23     1.007303e+06\n",
       "1      1807545.43     2.044585e+06\n",
       "100     364076.85     4.071370e+05\n",
       "10      895066.50     7.323965e+05\n",
       "114    1757242.51     1.387931e+06\n",
       "35     1266564.94     1.416046e+06\n",
       "21      290930.01     2.066215e+05\n",
       "59     2020550.99     2.275138e+06\n",
       "94     1953544.76     2.114085e+06\n",
       "23     1427023.45     1.474839e+06\n",
       "55     1847430.96     1.996661e+06\n",
       "20      561145.14     6.609084e+05\n",
       "127     614253.33     6.351835e+05\n",
       "11     1029618.10     1.143902e+06\n",
       "107     994801.40     9.523591e+05"
      ]
     },
     "execution_count": 74,
     "metadata": {},
     "output_type": "execute_result"
    }
   ],
   "source": [
    "ridge_df = pd.DataFrame({\"Actual value\" : y_test, \"Predicted value\" : y_test_pred})\n",
    "ridge_df"
   ]
  },
  {
   "cell_type": "code",
   "execution_count": 75,
   "metadata": {},
   "outputs": [
    {
     "data": {
      "image/png": "[encoded data removed]",
      "text/plain": [
       "<Figure size 1152x720 with 1 Axes>"
      ]
     },
     "metadata": {
      "needs_background": "light"
     },
     "output_type": "display_data"
    }
   ],
   "source": [
    "ridge_df.plot(kind = 'bar', figsize=(16, 10))\n",
    "plt.grid(which = \"major\", linestyle = \"-\", linewidth = \"0.2\", color = \"green\")\n",
    "plt.grid(which = \"minor\", linestyle = \":\", linewidth = \"1\", color = \"black\")\n",
    "plt.show()"
   ]
  },
  {
   "cell_type": "code",
   "execution_count": null,
   "metadata": {},
   "outputs": [],
   "source": []
  },
  {
   "cell_type": "markdown",
   "metadata": {},
   "source": [
    "## Experiment 3 : Ridge-regularized model with hyper parameter optimization"
   ]
  },
  {
   "cell_type": "markdown",
   "metadata": {},
   "source": [
    "### Train pipeline for Ridge-regularized model with hyper parameter optimization"
   ]
  },
  {
   "cell_type": "markdown",
   "metadata": {},
   "source": [
    "##### Separate target variable y from features X"
   ]
  },
  {
   "cell_type": "code",
   "execution_count": 76,
   "metadata": {},
   "outputs": [
    {
     "name": "stdout",
     "output_type": "stream",
     "text": [
      "Separating labels from features...\n",
      "...Done.\n",
      "\n",
      "y : \n",
      "1      1807545.43\n",
      "4      1644470.66\n",
      "6       695396.19\n",
      "7      2203523.20\n",
      "10      895066.50\n",
      "          ...    \n",
      "139     532739.77\n",
      "143     396968.80\n",
      "144     424513.08\n",
      "145    2248645.59\n",
      "149    1255087.26\n",
      "Name: Weekly_Sales, Length: 71, dtype: float64\n",
      "\n",
      "X :\n",
      "    Store  Holiday_Flag  Temperature  Fuel_Price         CPI  Unemployment  \\\n",
      "1    13.0           0.0        42.38       3.435  128.616064         7.470   \n",
      "4     6.0           0.0        78.89       2.759  212.412888         7.092   \n",
      "6    15.0           0.0        69.80       4.069  134.855161         7.658   \n",
      "7    20.0           0.0        39.93       3.617  213.023623         6.961   \n",
      "10    8.0           0.0        82.92       3.554  219.070197         6.425   \n",
      "..    ...           ...          ...         ...         ...           ...   \n",
      "139   7.0           0.0        50.60       3.804  197.588605         8.090   \n",
      "143   3.0           0.0        78.53       2.705  214.495838         7.343   \n",
      "144   3.0           0.0        73.44       3.594  226.968844         6.034   \n",
      "145  14.0           0.0        72.62       2.780  182.442420         8.899   \n",
      "149  19.0           0.0        55.20       4.170  137.923067         8.150   \n",
      "\n",
      "       year  month   day  day_week  \n",
      "1    2011.0    3.0  25.0       4.0  \n",
      "4    2010.0    5.0  28.0       4.0  \n",
      "6    2011.0    3.0   6.0       6.0  \n",
      "7    2012.0    3.0   2.0       4.0  \n",
      "10   2011.0    8.0  19.0       4.0  \n",
      "..      ...    ...   ...       ...  \n",
      "139  2012.0    5.0  25.0       4.0  \n",
      "143  2010.0    4.0   6.0       1.0  \n",
      "144  2012.0   10.0  19.0       4.0  \n",
      "145  2010.0    6.0  18.0       4.0  \n",
      "149  2012.0    4.0  20.0       4.0  \n",
      "\n",
      "[71 rows x 10 columns]\n"
     ]
    }
   ],
   "source": [
    "print(\"Separating labels from features...\")\n",
    "features_list = [\"Store\", \"Holiday_Flag\",\"Temperature\", \"Fuel_Price\", \"CPI\", \"Unemployment\", \"month\", \"year\",\"day\", \"day_week\"]\n",
    "target_variable = \"Weekly_Sales\"\n",
    "\n",
    "X = df.drop(\"Weekly_Sales\", axis=1)\n",
    "y = df[\"Weekly_Sales\"]\n",
    "\n",
    "print(\"...Done.\")\n",
    "print()\n",
    "\n",
    "print('y : ')\n",
    "print(y)\n",
    "print()\n",
    "print('X :')\n",
    "print(X)"
   ]
  },
  {
   "cell_type": "code",
   "execution_count": 77,
   "metadata": {},
   "outputs": [],
   "source": [
    "dummies_store = pd.get_dummies(X[\"Store\"], prefix=[\"store\"], drop_first=True)"
   ]
  },
  {
   "cell_type": "code",
   "execution_count": 78,
   "metadata": {},
   "outputs": [],
   "source": [
    "dummies_holiday = pd.get_dummies(X[\"Holiday_Flag\"], prefix=[\"holi\"], drop_first=True)"
   ]
  },
  {
   "cell_type": "code",
   "execution_count": 79,
   "metadata": {},
   "outputs": [],
   "source": [
    "X = X.drop(\"Store\", axis=1)"
   ]
  },
  {
   "cell_type": "code",
   "execution_count": 80,
   "metadata": {},
   "outputs": [],
   "source": [
    "X = X.drop(\"Holiday_Flag\", axis=1)"
   ]
  },
  {
   "cell_type": "code",
   "execution_count": 81,
   "metadata": {},
   "outputs": [],
   "source": [
    "X = pd.concat([X, dummies_holiday], axis=1)"
   ]
  },
  {
   "cell_type": "code",
   "execution_count": 82,
   "metadata": {},
   "outputs": [],
   "source": [
    "X = pd.concat([X, dummies_store], axis=1)"
   ]
  },
  {
   "cell_type": "code",
   "execution_count": 83,
   "metadata": {},
   "outputs": [
    {
     "data": {
      "text/html": [
       "<div>\n",
       "<style scoped>\n",
       "    .dataframe tbody tr th:only-of-type {\n",
       "        vertical-align: middle;\n",
       "    }\n",
       "\n",
       "    .dataframe tbody tr th {\n",
       "        vertical-align: top;\n",
       "    }\n",
       "\n",
       "    .dataframe thead th {\n",
       "        text-align: right;\n",
       "    }\n",
       "</style>\n",
       "<table border=\"1\" class=\"dataframe\">\n",
       "  <thead>\n",
       "    <tr style=\"text-align: right;\">\n",
       "      <th></th>\n",
       "      <th>Temperature</th>\n",
       "      <th>Fuel_Price</th>\n",
       "      <th>CPI</th>\n",
       "      <th>Unemployment</th>\n",
       "      <th>year</th>\n",
       "      <th>month</th>\n",
       "      <th>day</th>\n",
       "      <th>day_week</th>\n",
       "      <th>['holi']_1.0</th>\n",
       "      <th>['store']_10.0</th>\n",
       "      <th>...</th>\n",
       "      <th>['store']_19.0</th>\n",
       "      <th>['store']_2.0</th>\n",
       "      <th>['store']_20.0</th>\n",
       "      <th>['store']_3.0</th>\n",
       "      <th>['store']_4.0</th>\n",
       "      <th>['store']_5.0</th>\n",
       "      <th>['store']_6.0</th>\n",
       "      <th>['store']_7.0</th>\n",
       "      <th>['store']_8.0</th>\n",
       "      <th>['store']_9.0</th>\n",
       "    </tr>\n",
       "  </thead>\n",
       "  <tbody>\n",
       "    <tr>\n",
       "      <th>1</th>\n",
       "      <td>42.38</td>\n",
       "      <td>3.435</td>\n",
       "      <td>128.616064</td>\n",
       "      <td>7.470</td>\n",
       "      <td>2011.0</td>\n",
       "      <td>3.0</td>\n",
       "      <td>25.0</td>\n",
       "      <td>4.0</td>\n",
       "      <td>0</td>\n",
       "      <td>0</td>\n",
       "      <td>...</td>\n",
       "      <td>0</td>\n",
       "      <td>0</td>\n",
       "      <td>0</td>\n",
       "      <td>0</td>\n",
       "      <td>0</td>\n",
       "      <td>0</td>\n",
       "      <td>0</td>\n",
       "      <td>0</td>\n",
       "      <td>0</td>\n",
       "      <td>0</td>\n",
       "    </tr>\n",
       "    <tr>\n",
       "      <th>4</th>\n",
       "      <td>78.89</td>\n",
       "      <td>2.759</td>\n",
       "      <td>212.412888</td>\n",
       "      <td>7.092</td>\n",
       "      <td>2010.0</td>\n",
       "      <td>5.0</td>\n",
       "      <td>28.0</td>\n",
       "      <td>4.0</td>\n",
       "      <td>0</td>\n",
       "      <td>0</td>\n",
       "      <td>...</td>\n",
       "      <td>0</td>\n",
       "      <td>0</td>\n",
       "      <td>0</td>\n",
       "      <td>0</td>\n",
       "      <td>0</td>\n",
       "      <td>0</td>\n",
       "      <td>1</td>\n",
       "      <td>0</td>\n",
       "      <td>0</td>\n",
       "      <td>0</td>\n",
       "    </tr>\n",
       "    <tr>\n",
       "      <th>6</th>\n",
       "      <td>69.80</td>\n",
       "      <td>4.069</td>\n",
       "      <td>134.855161</td>\n",
       "      <td>7.658</td>\n",
       "      <td>2011.0</td>\n",
       "      <td>3.0</td>\n",
       "      <td>6.0</td>\n",
       "      <td>6.0</td>\n",
       "      <td>0</td>\n",
       "      <td>0</td>\n",
       "      <td>...</td>\n",
       "      <td>0</td>\n",
       "      <td>0</td>\n",
       "      <td>0</td>\n",
       "      <td>0</td>\n",
       "      <td>0</td>\n",
       "      <td>0</td>\n",
       "      <td>0</td>\n",
       "      <td>0</td>\n",
       "      <td>0</td>\n",
       "      <td>0</td>\n",
       "    </tr>\n",
       "    <tr>\n",
       "      <th>7</th>\n",
       "      <td>39.93</td>\n",
       "      <td>3.617</td>\n",
       "      <td>213.023623</td>\n",
       "      <td>6.961</td>\n",
       "      <td>2012.0</td>\n",
       "      <td>3.0</td>\n",
       "      <td>2.0</td>\n",
       "      <td>4.0</td>\n",
       "      <td>0</td>\n",
       "      <td>0</td>\n",
       "      <td>...</td>\n",
       "      <td>0</td>\n",
       "      <td>0</td>\n",
       "      <td>1</td>\n",
       "      <td>0</td>\n",
       "      <td>0</td>\n",
       "      <td>0</td>\n",
       "      <td>0</td>\n",
       "      <td>0</td>\n",
       "      <td>0</td>\n",
       "      <td>0</td>\n",
       "    </tr>\n",
       "    <tr>\n",
       "      <th>10</th>\n",
       "      <td>82.92</td>\n",
       "      <td>3.554</td>\n",
       "      <td>219.070197</td>\n",
       "      <td>6.425</td>\n",
       "      <td>2011.0</td>\n",
       "      <td>8.0</td>\n",
       "      <td>19.0</td>\n",
       "      <td>4.0</td>\n",
       "      <td>0</td>\n",
       "      <td>0</td>\n",
       "      <td>...</td>\n",
       "      <td>0</td>\n",
       "      <td>0</td>\n",
       "      <td>0</td>\n",
       "      <td>0</td>\n",
       "      <td>0</td>\n",
       "      <td>0</td>\n",
       "      <td>0</td>\n",
       "      <td>0</td>\n",
       "      <td>1</td>\n",
       "      <td>0</td>\n",
       "    </tr>\n",
       "  </tbody>\n",
       "</table>\n",
       "<p>5 rows × 27 columns</p>\n",
       "</div>"
      ],
      "text/plain": [
       "    Temperature  Fuel_Price         CPI  Unemployment    year  month   day  \\\n",
       "1         42.38       3.435  128.616064         7.470  2011.0    3.0  25.0   \n",
       "4         78.89       2.759  212.412888         7.092  2010.0    5.0  28.0   \n",
       "6         69.80       4.069  134.855161         7.658  2011.0    3.0   6.0   \n",
       "7         39.93       3.617  213.023623         6.961  2012.0    3.0   2.0   \n",
       "10        82.92       3.554  219.070197         6.425  2011.0    8.0  19.0   \n",
       "\n",
       "    day_week  ['holi']_1.0  ['store']_10.0  ...  ['store']_19.0  \\\n",
       "1        4.0             0               0  ...               0   \n",
       "4        4.0             0               0  ...               0   \n",
       "6        6.0             0               0  ...               0   \n",
       "7        4.0             0               0  ...               0   \n",
       "10       4.0             0               0  ...               0   \n",
       "\n",
       "    ['store']_2.0  ['store']_20.0  ['store']_3.0  ['store']_4.0  \\\n",
       "1               0               0              0              0   \n",
       "4               0               0              0              0   \n",
       "6               0               0              0              0   \n",
       "7               0               1              0              0   \n",
       "10              0               0              0              0   \n",
       "\n",
       "    ['store']_5.0  ['store']_6.0  ['store']_7.0  ['store']_8.0  ['store']_9.0  \n",
       "1               0              0              0              0              0  \n",
       "4               0              1              0              0              0  \n",
       "6               0              0              0              0              0  \n",
       "7               0              0              0              0              0  \n",
       "10              0              0              0              1              0  \n",
       "\n",
       "[5 rows x 27 columns]"
      ]
     },
     "execution_count": 83,
     "metadata": {},
     "output_type": "execute_result"
    }
   ],
   "source": [
    "X.head()"
   ]
  },
  {
   "cell_type": "code",
   "execution_count": 84,
   "metadata": {},
   "outputs": [
    {
     "data": {
      "text/plain": [
       "(71, 27)"
      ]
     },
     "execution_count": 84,
     "metadata": {},
     "output_type": "execute_result"
    }
   ],
   "source": [
    "X.shape"
   ]
  },
  {
   "cell_type": "markdown",
   "metadata": {},
   "source": [
    "##### Divide dataset into train & test sets"
   ]
  },
  {
   "cell_type": "code",
   "execution_count": 85,
   "metadata": {},
   "outputs": [
    {
     "name": "stdout",
     "output_type": "stream",
     "text": [
      "Dividing into train and test sets...\n",
      "...Done.\n",
      "\n"
     ]
    }
   ],
   "source": [
    "print(\"Dividing into train and test sets...\")\n",
    "X_train, X_test, y_train, y_test = train_test_split(X, y, test_size=0.2, random_state=42)\n",
    "print(\"...Done.\")\n",
    "print()"
   ]
  },
  {
   "cell_type": "markdown",
   "metadata": {},
   "source": [
    "##### Standardization of the train dataframe before training the model"
   ]
  },
  {
   "cell_type": "code",
   "execution_count": 86,
   "metadata": {},
   "outputs": [
    {
     "name": "stdout",
     "output_type": "stream",
     "text": [
      "Standardizing numerical features...\n",
      "\n",
      "     Temperature  Fuel_Price         CPI  Unemployment    year  month   day  \\\n",
      "54         86.87       3.666  130.719633         7.170  2012.0    6.0   7.0   \n",
      "122        57.84       3.596  198.095048         7.872  2012.0    7.0   9.0   \n",
      "63         69.17       3.594  224.019287         5.422  2012.0   10.0  19.0   \n",
      "121        89.42       3.682  216.046436         6.529  2011.0    7.0  29.0   \n",
      "78         62.25       3.308  218.220509         7.866  2011.0   11.0  18.0   \n",
      "\n",
      "     day_week  ['holi']_1.0  ['store']_10.0  ...  ['store']_19.0  \\\n",
      "54        3.0             0               1  ...               0   \n",
      "122       0.0             1               0  ...               0   \n",
      "63        4.0             0               0  ...               0   \n",
      "121       4.0             0               0  ...               0   \n",
      "78        4.0             0               0  ...               0   \n",
      "\n",
      "     ['store']_2.0  ['store']_20.0  ['store']_3.0  ['store']_4.0  \\\n",
      "54               0               0              0              0   \n",
      "122              0               0              0              0   \n",
      "63               0               0              0              0   \n",
      "121              0               0              0              0   \n",
      "78               0               0              0              0   \n",
      "\n",
      "     ['store']_5.0  ['store']_6.0  ['store']_7.0  ['store']_8.0  ['store']_9.0  \n",
      "54               0              0              0              0              0  \n",
      "122              0              0              1              0              0  \n",
      "63               1              0              0              0              0  \n",
      "121              1              0              0              0              0  \n",
      "78               0              0              0              0              0  \n",
      "\n",
      "[5 rows x 27 columns]\n",
      "...Done\n",
      "[[ 1.5802326   0.70358661 -1.2282192  -0.04204051  1.15470054 -0.2035035\n",
      "  -0.95542529 -0.38445547 -0.2773501   5.19615242  0.         -0.31311215\n",
      "  -0.13483997 -0.19245009 -0.19245009 -0.23791548 -0.19245009 -0.2773501\n",
      "  -0.23791548 -0.23791548 -0.37796447 -0.2773501  -0.2773501  -0.19245009\n",
      "  -0.31311215 -0.19245009 -0.13483997]\n",
      " [-0.16910349  0.55862395  0.46060066  0.71642506  1.15470054  0.08870665\n",
      "  -0.72127292 -2.40284666  3.60555128 -0.19245009  0.         -0.31311215\n",
      "  -0.13483997 -0.19245009 -0.19245009 -0.23791548 -0.19245009 -0.2773501\n",
      "  -0.23791548 -0.23791548 -0.37796447 -0.2773501  -0.2773501  -0.19245009\n",
      "   3.19374388 -0.19245009 -0.13483997]\n",
      " [ 0.51363774  0.55448216  1.11041291 -1.93064139  1.15470054  0.96533711\n",
      "   0.44948892  0.2883416  -0.2773501  -0.19245009  0.         -0.31311215\n",
      "  -0.13483997 -0.19245009 -0.19245009 -0.23791548 -0.19245009 -0.2773501\n",
      "  -0.23791548 -0.23791548 -0.37796447 -0.2773501   3.60555128 -0.19245009\n",
      "  -0.31311215 -0.19245009 -0.13483997]\n",
      " [ 1.73389458  0.73672093  0.91056688 -0.73459953  0.          0.08870665\n",
      "   1.62025076  0.2883416  -0.2773501  -0.19245009  0.         -0.31311215\n",
      "  -0.13483997 -0.19245009 -0.19245009 -0.23791548 -0.19245009 -0.2773501\n",
      "  -0.23791548 -0.23791548 -0.37796447 -0.2773501   3.60555128 -0.19245009\n",
      "  -0.31311215 -0.19245009 -0.13483997]\n",
      " [ 0.09664133 -0.03779384  0.96506178  0.70994245  0.          1.25754726\n",
      "   0.33241274  0.2883416  -0.2773501  -0.19245009  0.         -0.31311215\n",
      "  -0.13483997 -0.19245009 -0.19245009 -0.23791548 -0.19245009 -0.2773501\n",
      "  -0.23791548 -0.23791548 -0.37796447 -0.2773501  -0.2773501  -0.19245009\n",
      "  -0.31311215 -0.19245009 -0.13483997]]\n"
     ]
    }
   ],
   "source": [
    "# Standardizing numerical features\n",
    "print(\"Standardizing numerical features...\")\n",
    "print()\n",
    "print(X_train.iloc[0:5,:])\n",
    "\n",
    "# Standardization\n",
    "scaler = StandardScaler()\n",
    "\n",
    "X_train_transformed = scaler.fit_transform(X_train)\n",
    "print(\"...Done\")\n",
    "print(X_train_transformed[0:5,:])"
   ]
  },
  {
   "cell_type": "markdown",
   "metadata": {},
   "source": [
    "##### Training a Ridge-regularized model with hyper parameter optimization"
   ]
  },
  {
   "cell_type": "code",
   "execution_count": 87,
   "metadata": {},
   "outputs": [
    {
     "name": "stdout",
     "output_type": "stream",
     "text": [
      "Grid search...\n",
      "...Done.\n",
      "Best hyperparameters :  {'alpha': 2.3}\n",
      "Best R2 score :  0.7492900886525835\n"
     ]
    }
   ],
   "source": [
    "# Perform grid search\n",
    "print(\"Grid search...\")\n",
    "regressor = Ridge()\n",
    "# Grid of values to be tested\n",
    "params = {\n",
    "    'alpha': [0.0, 2.3, 2.4, 2.5] # 0 corresponds to no regularization\n",
    "}\n",
    "gridsearch = GridSearchCV(regressor, param_grid = params, cv = 5) # cv : the number of folds to be used for CV\n",
    "gridsearch.fit(X_train_transformed, y_train)\n",
    "print(\"...Done.\")\n",
    "print(\"Best hyperparameters : \", gridsearch.best_params_)\n",
    "print(\"Best R2 score : \", gridsearch.best_score_)"
   ]
  },
  {
   "cell_type": "markdown",
   "metadata": {},
   "source": [
    "#### Prediction on train set"
   ]
  },
  {
   "cell_type": "code",
   "execution_count": 88,
   "metadata": {},
   "outputs": [
    {
     "name": "stdout",
     "output_type": "stream",
     "text": [
      "Predictions on training set...\n",
      "...Done.\n",
      "[1863837.0187663   481163.56909362  374554.50032691  198973.52685439\n",
      " 1450831.69696774  861587.97204373 1899464.7863599  1912887.96865319\n",
      " 2055981.33392841 1399134.92608821 1902200.82312334 2362686.6586822\n",
      "  470171.09128429 1437686.8515338   342052.29425546  909349.17308143\n",
      " 1936532.49664875  335941.10834572 2194891.07131851 1419379.4497738\n",
      " 1339550.85612364 2076191.15344088  694738.7536127   591435.39484252\n",
      "  824632.21038908  522619.02011275  539541.86588066 2386453.40285856\n",
      " 1587595.37650928 2089329.85491835 2217311.68105238  499238.46638665\n",
      "  494747.34160638  701072.81335433 1445165.70587963 2033927.76170714\n",
      " 1741845.18935556  423265.35796525 2130950.26589264 1132172.59463124\n",
      "  863468.52785251  484480.89037126 2032457.55189866 1137150.22568784\n",
      " 1845134.86254189  559608.036023    496934.30021707 1674466.48368047\n",
      " 1377131.67404476  425114.84396458  623125.80640421 1542930.71431772\n",
      " 2125772.51263023  444522.43980289  902133.40415193  397066.71276165]\n",
      "\n"
     ]
    }
   ],
   "source": [
    "# Predictions on training set\n",
    "# The model has already be re-trained on all the training set at the end of the grid search, so we can directly use it !\n",
    "print(\"Predictions on training set...\")\n",
    "y_train_pred = gridsearch.predict(X_train_transformed)\n",
    "print(\"...Done.\")\n",
    "print(y_train_pred)\n",
    "print()"
   ]
  },
  {
   "cell_type": "markdown",
   "metadata": {},
   "source": [
    "### Test pipeline of the Ridge-regularized model with hyper parameter optimization"
   ]
  },
  {
   "cell_type": "code",
   "execution_count": 89,
   "metadata": {},
   "outputs": [
    {
     "data": {
      "text/plain": [
       "(15, 27)"
      ]
     },
     "execution_count": 89,
     "metadata": {},
     "output_type": "execute_result"
    }
   ],
   "source": [
    "X_test.shape"
   ]
  },
  {
   "cell_type": "markdown",
   "metadata": {},
   "source": [
    "##### Standardization of the test dataframe before prediction"
   ]
  },
  {
   "cell_type": "code",
   "execution_count": 90,
   "metadata": {},
   "outputs": [
    {
     "name": "stdout",
     "output_type": "stream",
     "text": [
      "Standardizing numerical features...\n",
      "\n",
      "     Temperature  Fuel_Price         CPI  Unemployment    year  month   day  \\\n",
      "40         50.43       4.023  137.978133         8.304  2012.0    4.0  27.0   \n",
      "1          42.38       3.435  128.616064         7.470  2011.0    3.0  25.0   \n",
      "100        83.52       2.637  214.785826         7.343  2010.0    6.0  18.0   \n",
      "10         82.92       3.554  219.070197         6.425  2011.0    8.0  19.0   \n",
      "114        69.90       2.735  215.061402         7.564  2010.0   11.0  26.0   \n",
      "\n",
      "     day_week  ['holi']_1.0  ['store']_10.0  ...  ['store']_19.0  \\\n",
      "40        4.0             0               0  ...               0   \n",
      "1         4.0             0               0  ...               0   \n",
      "100       4.0             0               0  ...               0   \n",
      "10        4.0             0               0  ...               0   \n",
      "114       4.0             1               0  ...               0   \n",
      "\n",
      "     ['store']_2.0  ['store']_20.0  ['store']_3.0  ['store']_4.0  \\\n",
      "40               0               0              0              0   \n",
      "1                0               0              0              0   \n",
      "100              0               0              1              0   \n",
      "10               0               0              0              0   \n",
      "114              0               0              0              0   \n",
      "\n",
      "     ['store']_5.0  ['store']_6.0  ['store']_7.0  ['store']_8.0  ['store']_9.0  \n",
      "40               0              0              0              0              0  \n",
      "1                0              0              0              0              0  \n",
      "100              0              0              0              0              0  \n",
      "10               0              0              0              1              0  \n",
      "114              0              0              0              0              0  \n",
      "\n",
      "[5 rows x 27 columns]\n",
      "...Done\n",
      "[[-0.61562711  1.44289616 -1.04627897  1.1831731   1.15470054 -0.7879238\n",
      "   1.38609839  0.2883416  -0.2773501  -0.19245009  0.         -0.31311215\n",
      "  -0.13483997 -0.19245009 -0.19245009 -0.23791548  5.19615242 -0.2773501\n",
      "  -0.23791548 -0.23791548 -0.37796447 -0.2773501  -0.2773501  -0.19245009\n",
      "  -0.31311215 -0.19245009 -0.13483997]\n",
      " [-1.10071686  0.22520984 -1.28094688  0.28209008  0.         -1.08013395\n",
      "   1.15194603  0.2883416  -0.2773501  -0.19245009  0.          3.19374388\n",
      "  -0.13483997 -0.19245009 -0.19245009 -0.23791548 -0.19245009 -0.2773501\n",
      "  -0.23791548 -0.23791548 -0.37796447 -0.2773501  -0.2773501  -0.19245009\n",
      "  -0.31311215 -0.19245009 -0.13483997]\n",
      " [ 1.37836296 -1.42736445  0.87896865  0.1448748  -1.15470054 -0.2035035\n",
      "   0.33241274  0.2883416  -0.2773501  -0.19245009  0.         -0.31311215\n",
      "  -0.13483997 -0.19245009 -0.19245009 -0.23791548 -0.19245009 -0.2773501\n",
      "  -0.23791548 -0.23791548  2.64575131 -0.2773501  -0.2773501  -0.19245009\n",
      "  -0.31311215 -0.19245009 -0.13483997]\n",
      " [ 1.3422072   0.47164636  0.98635991 -0.8469648   0.          0.3809168\n",
      "   0.44948892  0.2883416  -0.2773501  -0.19245009  0.         -0.31311215\n",
      "  -0.13483997 -0.19245009 -0.19245009 -0.23791548 -0.19245009 -0.2773501\n",
      "  -0.23791548 -0.23791548 -0.37796447 -0.2773501  -0.2773501  -0.19245009\n",
      "  -0.31311215  5.19615242 -0.13483997]\n",
      " [ 0.55762725 -1.22441673  0.8858762   0.38365099 -1.15470054  1.25754726\n",
      "   1.26902221  0.2883416   3.60555128 -0.19245009  1.         -0.31311215\n",
      "  -0.13483997 -0.19245009 -0.19245009 -0.23791548 -0.19245009 -0.2773501\n",
      "  -0.23791548 -0.23791548 -0.37796447 -0.2773501  -0.2773501  -0.19245009\n",
      "  -0.31311215 -0.19245009 -0.13483997]]\n"
     ]
    }
   ],
   "source": [
    "# Standardizing numerical features\n",
    "print(\"Standardizing numerical features...\")\n",
    "print()\n",
    "print(X_test.iloc[0:5,:])\n",
    "\n",
    "\n",
    "X_test_transformed = scaler.transform(X_test)\n",
    "print(\"...Done\")\n",
    "print(X_test_transformed[0:5,:])"
   ]
  },
  {
   "cell_type": "markdown",
   "metadata": {},
   "source": [
    "### Predictions on test set"
   ]
  },
  {
   "cell_type": "code",
   "execution_count": 91,
   "metadata": {},
   "outputs": [
    {
     "name": "stdout",
     "output_type": "stream",
     "text": [
      "Predictions on test set...\n",
      "...Done.\n",
      "[1016785.84993574 2036680.11500068  430326.76815109  764535.44322221\n",
      " 1335046.62935288 1404096.25500091  250538.61218756 2250180.07616755\n",
      " 2109960.6613379  1461012.28209894 1987223.29359318  673986.63758306\n",
      "  652091.46528745 1161868.4981461   988501.57344724]\n",
      "\n"
     ]
    }
   ],
   "source": [
    "print(\"Predictions on test set...\")\n",
    "y_test_pred = gridsearch.predict(X_test_transformed)\n",
    "print(\"...Done.\")\n",
    "print(y_test_pred)\n",
    "print()"
   ]
  },
  {
   "cell_type": "markdown",
   "metadata": {},
   "source": [
    "### R2 scores of with a Ridge-regularized model with hyper parameter optimization"
   ]
  },
  {
   "cell_type": "code",
   "execution_count": 92,
   "metadata": {},
   "outputs": [
    {
     "name": "stdout",
     "output_type": "stream",
     "text": [
      "R2 score on training set :  0.9785098650604044\n",
      "R2 score on test set :  0.9171045610028444\n"
     ]
    }
   ],
   "source": [
    "print(\"R2 score on training set : \", r2_score(y_train, y_train_pred))\n",
    "print(\"R2 score on test set : \", r2_score(y_test, y_test_pred))"
   ]
  },
  {
   "cell_type": "code",
   "execution_count": 93,
   "metadata": {},
   "outputs": [
    {
     "data": {
      "text/html": [
       "<div>\n",
       "<style scoped>\n",
       "    .dataframe tbody tr th:only-of-type {\n",
       "        vertical-align: middle;\n",
       "    }\n",
       "\n",
       "    .dataframe tbody tr th {\n",
       "        vertical-align: top;\n",
       "    }\n",
       "\n",
       "    .dataframe thead th {\n",
       "        text-align: right;\n",
       "    }\n",
       "</style>\n",
       "<table border=\"1\" class=\"dataframe\">\n",
       "  <thead>\n",
       "    <tr style=\"text-align: right;\">\n",
       "      <th></th>\n",
       "      <th>Actual value</th>\n",
       "      <th>Predicted value</th>\n",
       "    </tr>\n",
       "  </thead>\n",
       "  <tbody>\n",
       "    <tr>\n",
       "      <th>40</th>\n",
       "      <td>961186.23</td>\n",
       "      <td>1.016786e+06</td>\n",
       "    </tr>\n",
       "    <tr>\n",
       "      <th>1</th>\n",
       "      <td>1807545.43</td>\n",
       "      <td>2.036680e+06</td>\n",
       "    </tr>\n",
       "    <tr>\n",
       "      <th>100</th>\n",
       "      <td>364076.85</td>\n",
       "      <td>4.303268e+05</td>\n",
       "    </tr>\n",
       "    <tr>\n",
       "      <th>10</th>\n",
       "      <td>895066.50</td>\n",
       "      <td>7.645354e+05</td>\n",
       "    </tr>\n",
       "    <tr>\n",
       "      <th>114</th>\n",
       "      <td>1757242.51</td>\n",
       "      <td>1.335047e+06</td>\n",
       "    </tr>\n",
       "    <tr>\n",
       "      <th>35</th>\n",
       "      <td>1266564.94</td>\n",
       "      <td>1.404096e+06</td>\n",
       "    </tr>\n",
       "    <tr>\n",
       "      <th>21</th>\n",
       "      <td>290930.01</td>\n",
       "      <td>2.505386e+05</td>\n",
       "    </tr>\n",
       "    <tr>\n",
       "      <th>59</th>\n",
       "      <td>2020550.99</td>\n",
       "      <td>2.250180e+06</td>\n",
       "    </tr>\n",
       "    <tr>\n",
       "      <th>94</th>\n",
       "      <td>1953544.76</td>\n",
       "      <td>2.109961e+06</td>\n",
       "    </tr>\n",
       "    <tr>\n",
       "      <th>23</th>\n",
       "      <td>1427023.45</td>\n",
       "      <td>1.461012e+06</td>\n",
       "    </tr>\n",
       "    <tr>\n",
       "      <th>55</th>\n",
       "      <td>1847430.96</td>\n",
       "      <td>1.987223e+06</td>\n",
       "    </tr>\n",
       "    <tr>\n",
       "      <th>20</th>\n",
       "      <td>561145.14</td>\n",
       "      <td>6.739866e+05</td>\n",
       "    </tr>\n",
       "    <tr>\n",
       "      <th>127</th>\n",
       "      <td>614253.33</td>\n",
       "      <td>6.520915e+05</td>\n",
       "    </tr>\n",
       "    <tr>\n",
       "      <th>11</th>\n",
       "      <td>1029618.10</td>\n",
       "      <td>1.161868e+06</td>\n",
       "    </tr>\n",
       "    <tr>\n",
       "      <th>107</th>\n",
       "      <td>994801.40</td>\n",
       "      <td>9.885016e+05</td>\n",
       "    </tr>\n",
       "  </tbody>\n",
       "</table>\n",
       "</div>"
      ],
      "text/plain": [
       "     Actual value  Predicted value\n",
       "40      961186.23     1.016786e+06\n",
       "1      1807545.43     2.036680e+06\n",
       "100     364076.85     4.303268e+05\n",
       "10      895066.50     7.645354e+05\n",
       "114    1757242.51     1.335047e+06\n",
       "35     1266564.94     1.404096e+06\n",
       "21      290930.01     2.505386e+05\n",
       "59     2020550.99     2.250180e+06\n",
       "94     1953544.76     2.109961e+06\n",
       "23     1427023.45     1.461012e+06\n",
       "55     1847430.96     1.987223e+06\n",
       "20      561145.14     6.739866e+05\n",
       "127     614253.33     6.520915e+05\n",
       "11     1029618.10     1.161868e+06\n",
       "107     994801.40     9.885016e+05"
      ]
     },
     "execution_count": 93,
     "metadata": {},
     "output_type": "execute_result"
    }
   ],
   "source": [
    "ridge_hyper_df = pd.DataFrame({\"Actual value\" : y_test, \"Predicted value\" : y_test_pred})\n",
    "ridge_hyper_df"
   ]
  },
  {
   "cell_type": "code",
   "execution_count": 94,
   "metadata": {},
   "outputs": [
    {
     "data": {
      "image/png": "[encoded data removed]",
      "text/plain": [
       "<Figure size 1152x720 with 1 Axes>"
      ]
     },
     "metadata": {
      "needs_background": "light"
     },
     "output_type": "display_data"
    }
   ],
   "source": [
    "ridge_hyper_df.plot(kind = 'bar', figsize=(16, 10))\n",
    "plt.grid(which = \"major\", linestyle = \"-\", linewidth = \"0.5\", color = \"green\")\n",
    "plt.grid(which = \"minor\", linestyle = \":\", linewidth = \"0.5\", color = \"black\")\n",
    "plt.show()"
   ]
  },
  {
   "cell_type": "markdown",
   "metadata": {},
   "source": [
    "### Summary"
   ]
  },
  {
   "cell_type": "code",
   "execution_count": 95,
   "metadata": {},
   "outputs": [],
   "source": [
    "summary = [[\"Baseline model\", 0.9862582691247349, 0.9281436573874544],\n",
    "           [\"Ridge-regularized model without hyper parameter optimization\", 0.982265802290854, 0.9196675579950595],\n",
    "           [\"Ridge-regularized model with hyper parameter optimization\", 0.9785098650604044, 0.9171045610028444]]\n",
    "\n",
    "summary = pd.DataFrame(summary, index=[0, 1, 2], columns=[\"Model description\", \"R2 score on training set\", \"R2 score on test set\"])"
   ]
  },
  {
   "cell_type": "code",
   "execution_count": 96,
   "metadata": {},
   "outputs": [
    {
     "data": {
      "text/html": [
       "<div>\n",
       "<style scoped>\n",
       "    .dataframe tbody tr th:only-of-type {\n",
       "        vertical-align: middle;\n",
       "    }\n",
       "\n",
       "    .dataframe tbody tr th {\n",
       "        vertical-align: top;\n",
       "    }\n",
       "\n",
       "    .dataframe thead th {\n",
       "        text-align: right;\n",
       "    }\n",
       "</style>\n",
       "<table border=\"1\" class=\"dataframe\">\n",
       "  <thead>\n",
       "    <tr style=\"text-align: right;\">\n",
       "      <th></th>\n",
       "      <th>Model description</th>\n",
       "      <th>R2 score on training set</th>\n",
       "      <th>R2 score on test set</th>\n",
       "    </tr>\n",
       "  </thead>\n",
       "  <tbody>\n",
       "    <tr>\n",
       "      <th>0</th>\n",
       "      <td>Baseline model</td>\n",
       "      <td>0.986258</td>\n",
       "      <td>0.928144</td>\n",
       "    </tr>\n",
       "    <tr>\n",
       "      <th>1</th>\n",
       "      <td>Ridge-regularized model without hyper paramete...</td>\n",
       "      <td>0.982266</td>\n",
       "      <td>0.919668</td>\n",
       "    </tr>\n",
       "    <tr>\n",
       "      <th>2</th>\n",
       "      <td>Ridge-regularized model with hyper parameter o...</td>\n",
       "      <td>0.978510</td>\n",
       "      <td>0.917105</td>\n",
       "    </tr>\n",
       "  </tbody>\n",
       "</table>\n",
       "</div>"
      ],
      "text/plain": [
       "                                   Model description  \\\n",
       "0                                     Baseline model   \n",
       "1  Ridge-regularized model without hyper paramete...   \n",
       "2  Ridge-regularized model with hyper parameter o...   \n",
       "\n",
       "   R2 score on training set  R2 score on test set  \n",
       "0                  0.986258              0.928144  \n",
       "1                  0.982266              0.919668  \n",
       "2                  0.978510              0.917105  "
      ]
     },
     "execution_count": 96,
     "metadata": {},
     "output_type": "execute_result"
    }
   ],
   "source": [
    "summary"
   ]
  },
  {
   "cell_type": "markdown",
   "metadata": {},
   "source": [
    "### Conclusion"
   ]
  },
  {
   "cell_type": "markdown",
   "metadata": {},
   "source": [
    "The three different models tested in the exercise lead to the following conclusions :\n",
    "\n",
    "1 - In Machine learning, depending on the problem to be solved, basic models can sometimes outperform more complex ones.\n",
    "\n",
    "2 - Training a model with a small amount of data will produce misleading scores. It is not beacause our model gives a R2 score of 98 % at the first try that we should think that the model is the best model ever. We should investigate and try to understand what is going on under the hood. The three models designes above peform more or less correctly despite the fact that they have been trained with limited data. Nevertheless, training these models with more data would have helped them generalize better - prevent overfitting - and make better predictions.\n",
    "\n",
    "3 - Machine learning being an iterative process and no model being a priori guaranteed to work better, we can experiment with different models to see if they produce better scores. It is better to run the model and record its scores rather than making assumptions about a particular model's performance."
   ]
  },
  {
   "cell_type": "code",
   "execution_count": null,
   "metadata": {},
   "outputs": [],
   "source": []
  }
 ],
 "metadata": {
  "kernelspec": {
   "display_name": "Python 3",
   "language": "python",
   "name": "python3"
  },
  "language_info": {
   "codemirror_mode": {
    "name": "ipython",
    "version": 3
   },
   "file_extension": ".py",
   "mimetype": "text/x-python",
   "name": "python",
   "nbconvert_exporter": "python",
   "pygments_lexer": "ipython3",
   "version": "3.8.6"
  }
 },
 "nbformat": 4,
 "nbformat_minor": 4
}
